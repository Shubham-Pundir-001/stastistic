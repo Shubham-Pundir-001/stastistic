{
  "nbformat": 4,
  "nbformat_minor": 0,
  "metadata": {
    "colab": {
      "provenance": []
    },
    "kernelspec": {
      "name": "python3",
      "display_name": "Python 3"
    },
    "language_info": {
      "name": "python"
    }
  },
  "cells": [
    {
      "cell_type": "code",
      "execution_count": 1,
      "metadata": {
        "id": "MrAvtPfIILlI"
      },
      "outputs": [],
      "source": [
        "## statistics\n",
        "## generate a list of  100 integers containing value betweeen 90 to 130 and store it  in the variable int_list after genrating the list\n",
        "\n",
        "##find the following\n",
        "\n",
        "\n",
        " ## (i) Write a Python function to calculate the mean of a given list of numbers.\n",
        "\n",
        "##Create a function to find the median of a list of numbers.\n",
        "\n",
        "\n",
        "  ## (ii) Develop a program to compute the mode of a list of integers\n",
        "\n",
        "\n",
        "\n",
        " ## (iii) Implement a function to calculate the weighted mean of a list of values and their corresponding weights.\n",
        "\n",
        "\n",
        "\n",
        "  ##(iv) Write a Python function to find the geometric mean of a list of positive numbers.\n",
        "\n",
        "\n",
        "\n",
        "  ##(v) Create a program to calculate the harmonic mean of a list of values.\n",
        "\n",
        "\n",
        "\n",
        " ## (vi) Build a function to determine the midrange of a list of numbers (average of the minimum and maximum).\n",
        "\n",
        "\n",
        "\n",
        "  ##(vii) Implement a Python program to find the trimmed mean of a list, excluding a certain percentage of\n",
        "##outliers."
      ]
    },
    {
      "cell_type": "code",
      "source": [
        "import numpy as np\n",
        "import pandas as pd\n",
        "import random\n",
        "import seaborn as sns\n",
        "import matplotlib.pyplot as plt\n",
        "def mean(int_list):\n",
        "  return sum(int_list)/len(int_list)\n",
        "\n",
        "\n",
        "\n"
      ],
      "metadata": {
        "id": "zWDDEdXHJXr_"
      },
      "execution_count": 2,
      "outputs": []
    },
    {
      "cell_type": "code",
      "source": [
        "mean(int_list=list(np.random.randint(90,130,100)))"
      ],
      "metadata": {
        "id": "TgrRs8fYOvSl",
        "colab": {
          "base_uri": "https://localhost:8080/"
        },
        "outputId": "e6162f56-99b3-4a75-c5d4-d47d3655c24c"
      },
      "execution_count": 3,
      "outputs": [
        {
          "output_type": "execute_result",
          "data": {
            "text/plain": [
              "108.9"
            ]
          },
          "metadata": {},
          "execution_count": 3
        }
      ]
    },
    {
      "cell_type": "code",
      "source": [
        "def median(int_list):\n",
        "  int_list.sort()\n",
        "  n=len(int_list)\n",
        "  if n%2==0:\n",
        "    mid1=int_list[n//2]\n",
        "    mid2=int_list[n//2-1]\n",
        "    median=(mid1+mid2)/2\n",
        "  else:\n",
        "    median=int_list[n//2]\n",
        "  return median"
      ],
      "metadata": {
        "id": "9CQ-a3R6VzR2"
      },
      "execution_count": 4,
      "outputs": []
    },
    {
      "cell_type": "code",
      "source": [
        "np.random.seed(20)\n",
        "median(int_list=list(np.random.randint(90,130,100)))"
      ],
      "metadata": {
        "id": "YcjxTBRlYBiW",
        "colab": {
          "base_uri": "https://localhost:8080/"
        },
        "outputId": "454aabe3-c220-4f03-edae-d45a5435472e"
      },
      "execution_count": 5,
      "outputs": [
        {
          "output_type": "execute_result",
          "data": {
            "text/plain": [
              "108.0"
            ]
          },
          "metadata": {},
          "execution_count": 5
        }
      ]
    },
    {
      "cell_type": "code",
      "source": [
        "## (ii) Develop a program to compute the mode of a list of integers\n",
        "def  mode(int_list):\n",
        "  count_dict={}\n",
        "  for num in int_list:\n",
        "    if num in count_dict:\n",
        "      count_dict[num]+=1\n",
        "    else:\n",
        "      count_dict[num]=1\n",
        "      max_count=max(count_dict.values())\n",
        "  mode_value=[key  for key,value in count_dict.items() if value==max_count]\n",
        "  print(mode_value)\n",
        "\n"
      ],
      "metadata": {
        "id": "pr8J2CIFYSDu"
      },
      "execution_count": 6,
      "outputs": []
    },
    {
      "cell_type": "code",
      "source": [
        "np.random.seed(20)\n",
        "mode(int_list=list(np.random.randint(90,130,100)))"
      ],
      "metadata": {
        "colab": {
          "base_uri": "https://localhost:8080/"
        },
        "id": "laaoYBCWYSL3",
        "outputId": "ac93db6b-e06c-4899-c2f3-3289f414bee2"
      },
      "execution_count": 7,
      "outputs": [
        {
          "output_type": "stream",
          "name": "stdout",
          "text": [
            "[116]\n"
          ]
        }
      ]
    },
    {
      "cell_type": "code",
      "source": [
        "##  (iii) Implement a function to calculate the weighted mean of a list of values and their\n",
        "def  weighted_mean(int_list):\n",
        "  count_dict={}\n",
        "  for num in int_list:\n",
        "    if num in count_dict:\n",
        "      count_dict[num]+=1\n",
        "    else:\n",
        "      count_dict[num]=1\n",
        "  values=list(count_dict.keys())\n",
        "  weights=list(count_dict.values())\n",
        "  weighted_mean=np.average(values,weights=weights)\n",
        "  return weighted_mean\n"
      ],
      "metadata": {
        "id": "9v-j29-mcaxF"
      },
      "execution_count": 8,
      "outputs": []
    },
    {
      "cell_type": "code",
      "source": [
        "np.random.seed(20)\n",
        "weighted_mean(int_list=list(np.random.randint(90,130,100)))"
      ],
      "metadata": {
        "colab": {
          "base_uri": "https://localhost:8080/"
        },
        "id": "Wc1p9-L4fUCh",
        "outputId": "4320fb33-71dd-4806-b553-80d057cf052d"
      },
      "execution_count": 9,
      "outputs": [
        {
          "output_type": "execute_result",
          "data": {
            "text/plain": [
              "109.58"
            ]
          },
          "metadata": {},
          "execution_count": 9
        }
      ]
    },
    {
      "cell_type": "code",
      "source": [
        "##iv) Write a Python function to find the geometric mean of a list of positive numbers.##\n",
        "import numpy as np\n",
        "\n",
        "def geometric_mean(int_list):\n",
        "  adjusted_data=[(1+x)/100 for x in int_list]\n",
        "  gemoetric_mean=np.prod(adjusted_data)**(1.0/len(adjusted_data))\n",
        "  geometric_mean_percentage=(gemoetric_mean-1)*100\n",
        "  return geometric_mean_percentage\n"
      ],
      "metadata": {
        "id": "osKdyDuIvjwP"
      },
      "execution_count": 10,
      "outputs": []
    },
    {
      "cell_type": "code",
      "source": [
        "np.random.seed(20)\n",
        "geometric_mean(int_list=list(np.random.randint(90,130,100)))"
      ],
      "metadata": {
        "colab": {
          "base_uri": "https://localhost:8080/"
        },
        "id": "Is2llB_DvlrQ",
        "outputId": "f6c0f140-dcd6-45ee-a555-f6ec685dd50c"
      },
      "execution_count": 11,
      "outputs": [
        {
          "output_type": "execute_result",
          "data": {
            "text/plain": [
              "10.13070239723326"
            ]
          },
          "metadata": {},
          "execution_count": 11
        }
      ]
    },
    {
      "cell_type": "code",
      "source": [
        "##  (v) Create a program to calculate the harmonic mean of a list of values.\n",
        "def harmonic_mean(int_list):\n",
        "  harmonic_mean=len(int_list)/np.sum(1/np.array(int_list))\n",
        "  print(harmonic_mean)"
      ],
      "metadata": {
        "id": "ljgLIUc0mGgc"
      },
      "execution_count": 12,
      "outputs": []
    },
    {
      "cell_type": "code",
      "source": [
        "np.random.seed(20)\n",
        "harmonic_mean(int_list=list(np.random.randint(90,130,100)))"
      ],
      "metadata": {
        "colab": {
          "base_uri": "https://localhost:8080/"
        },
        "id": "FiLSBYt6hwHx",
        "outputId": "e9615d30-dff1-4907-8de6-464044ead26b"
      },
      "execution_count": 13,
      "outputs": [
        {
          "output_type": "stream",
          "name": "stdout",
          "text": [
            "108.67907245516564\n"
          ]
        }
      ]
    },
    {
      "cell_type": "code",
      "source": [
        "##(vi) Build a function to determine the midrange of a list of numbers (average of the minimum and maximum)\n",
        "def midrange(int_list):\n",
        "  return (min(int_list)+max(int_list))/2\n"
      ],
      "metadata": {
        "id": "SjdrGzHchwLI"
      },
      "execution_count": 14,
      "outputs": []
    },
    {
      "cell_type": "code",
      "source": [
        "np.random.seed(20)\n",
        "midrange(int_list=list(np.random.randint(90,130,100)))"
      ],
      "metadata": {
        "colab": {
          "base_uri": "https://localhost:8080/"
        },
        "id": "0RW5qI8XhwQ1",
        "outputId": "2276fbc9-2214-4484-847f-05673015b7a5"
      },
      "execution_count": 15,
      "outputs": [
        {
          "output_type": "execute_result",
          "data": {
            "text/plain": [
              "111.0"
            ]
          },
          "metadata": {},
          "execution_count": 15
        }
      ]
    },
    {
      "cell_type": "code",
      "source": [
        "##(vii) Implement a Python program to find the trimmed mean of a list, excluding a certain percentage of\n",
        "##outliers.\n",
        "def trimmed_mean(int_list):\n",
        "  data_sorted=np.sort(int_list)\n",
        "  n=len(int_list)\n",
        "  trim_count=int(n*2/100)\n",
        "  trimmed_data=data_sorted[trim_count:n-trim_count]\n",
        "  trimmed_mean=np.mean(trimmed_data)\n",
        "  return trimmed_mean\n"
      ],
      "metadata": {
        "id": "n4VGhfbPqfnV"
      },
      "execution_count": 16,
      "outputs": []
    },
    {
      "cell_type": "code",
      "source": [
        "np.random.seed(20)\n",
        "trimmed_mean(int_list=list(np.random.randint(90,130,100)))"
      ],
      "metadata": {
        "colab": {
          "base_uri": "https://localhost:8080/"
        },
        "id": "4U1f9dlzqf3K",
        "outputId": "c012753d-9a61-451a-9420-83d0cd1671d7"
      },
      "execution_count": 17,
      "outputs": [
        {
          "output_type": "execute_result",
          "data": {
            "text/plain": [
              "109.53125"
            ]
          },
          "metadata": {},
          "execution_count": 17
        }
      ]
    },
    {
      "cell_type": "code",
      "source": [
        "\n",
        "int_list2=(list(np.random.randint(200,300,500)))"
      ],
      "metadata": {
        "id": "tDUMH-mHUPsU"
      },
      "execution_count": 18,
      "outputs": []
    },
    {
      "cell_type": "code",
      "source": [
        "##  (i) Compare the given list of visualization for the given data:\n",
        "\n",
        "\n",
        "\n",
        "   ## 1. Frequency & Gaussian distribution\n",
        "\n",
        "    ##2. Frequency smoothened KDE plot\n",
        "\n",
        "    ## 3. Gaussian distribution & smoothened KDE plot\n",
        "sns.histplot(int_list2,kde=False,stat=\"density\",label=\"frequency\")\n",
        "sns.kdeplot(int_list2,label=\"Gaussian Kde\",color=\"red\")\n",
        "plt.legend()\n",
        "plt.title(\"frequency & Gaussain distribution\")\n",
        "plt.show()"
      ],
      "metadata": {
        "colab": {
          "base_uri": "https://localhost:8080/",
          "height": 452
        },
        "id": "AxY108SyUPvV",
        "outputId": "7603544e-d4cf-4326-afc2-af2f1d4161c7"
      },
      "execution_count": 19,
      "outputs": [
        {
          "output_type": "display_data",
          "data": {
            "text/plain": [
              "<Figure size 640x480 with 1 Axes>"
            ],
            "image/png": "[encoded data removed]"
          },
          "metadata": {}
        }
      ]
    },
    {
      "cell_type": "code",
      "source": [
        "## 2\n",
        "sns.histplot(int_list2,kde=True,stat=\"density\",label=\"frequency\")\n",
        "plt.legend()\n",
        "plt.show()\n",
        "\n"
      ],
      "metadata": {
        "colab": {
          "base_uri": "https://localhost:8080/",
          "height": 430
        },
        "id": "uJvO72JfUPyQ",
        "outputId": "70117cf0-788b-41b2-e3cf-387298668d79"
      },
      "execution_count": 20,
      "outputs": [
        {
          "output_type": "display_data",
          "data": {
            "text/plain": [
              "<Figure size 640x480 with 1 Axes>"
            ],
            "image/png": "[encoded data removed]"
          },
          "metadata": {}
        }
      ]
    },
    {
      "cell_type": "code",
      "source": [
        "## 3\n",
        "sns.kdeplot(int_list2,label=\"smoothende kdf\",color=\"green\")\n",
        "sns.kdeplot(np.random.normal(np.mean(int_list2),np.std(int_list2),size=len(int_list2)),label=\"gaussian Kde\",color=\"red\")\n",
        "plt.legend()\n",
        "plt.title(\"Gaussian distribution & smoothened KDE plot\")\n",
        "plt.show()"
      ],
      "metadata": {
        "colab": {
          "base_uri": "https://localhost:8080/",
          "height": 452
        },
        "id": "NMBuLmi9UP1L",
        "outputId": "76dbdce4-4f1f-40d8-c5d8-daa72ec8bb1e"
      },
      "execution_count": 21,
      "outputs": [
        {
          "output_type": "display_data",
          "data": {
            "text/plain": [
              "<Figure size 640x480 with 1 Axes>"
            ],
            "image/png": "[encoded data removed]"
          },
          "metadata": {}
        }
      ]
    },
    {
      "cell_type": "code",
      "source": [
        "##  (ii) Write a Python function to calculate the range of a given list of numbers.\n",
        "range=max(int_list2)-min(int_list2)\n",
        "range"
      ],
      "metadata": {
        "colab": {
          "base_uri": "https://localhost:8080/"
        },
        "id": "0BHnoM93UP6o",
        "outputId": "98e79944-6804-4477-fea1-57b9f5d3d1b1"
      },
      "execution_count": 22,
      "outputs": [
        {
          "output_type": "execute_result",
          "data": {
            "text/plain": [
              "99"
            ]
          },
          "metadata": {},
          "execution_count": 22
        }
      ]
    },
    {
      "cell_type": "code",
      "source": [
        "##   (iii) Create a program to find the variance and standard deviation of a list of numbers\n",
        "a=np.var(int_list2)\n",
        "b=np.std(int_list2)"
      ],
      "metadata": {
        "id": "wz9rQw4B_1Yb"
      },
      "execution_count": 23,
      "outputs": []
    },
    {
      "cell_type": "code",
      "source": [
        "##  (iv) Implement a function to compute the interquartile range (IQR) of a list of values\n",
        "def interquartile(int_list2):\n",
        "  n=len(int_list2)\n",
        "  q1=np.percentile(int_list2,25)\n",
        "  q3=np.percentile(int_list2,75)\n",
        "  return q3-q1\n",
        "\n",
        "\n"
      ],
      "metadata": {
        "id": "vWO9eKCMAR0P"
      },
      "execution_count": 24,
      "outputs": []
    },
    {
      "cell_type": "code",
      "source": [
        "interquartile(int_list2=(list(np.random.randint(200,300,500))))"
      ],
      "metadata": {
        "colab": {
          "base_uri": "https://localhost:8080/"
        },
        "id": "vVYwVyyMSc8l",
        "outputId": "c13ee338-3d6b-4ab6-d10b-0e2a7d570b3e"
      },
      "execution_count": 25,
      "outputs": [
        {
          "output_type": "execute_result",
          "data": {
            "text/plain": [
              "52.0"
            ]
          },
          "metadata": {},
          "execution_count": 25
        }
      ]
    },
    {
      "cell_type": "code",
      "source": [
        "## (v) Build a program to calculate the coefficient of variation for a dataset\n",
        "def  coefficient_of_variation(int_list2):\n",
        "  return np.std(int_list2)/np.mean(int_list2)*100\n",
        "\n"
      ],
      "metadata": {
        "id": "2rmIqMOqS7oF"
      },
      "execution_count": 26,
      "outputs": []
    },
    {
      "cell_type": "code",
      "source": [
        "coefficient_of_variation(int_list2=(list(np.random.randint(200,300,500))))"
      ],
      "metadata": {
        "colab": {
          "base_uri": "https://localhost:8080/"
        },
        "id": "A4GWKsXhS7rp",
        "outputId": "83cf1442-b240-43ad-fa9d-2c9b460f8852"
      },
      "execution_count": 27,
      "outputs": [
        {
          "output_type": "execute_result",
          "data": {
            "text/plain": [
              "11.813689780690781"
            ]
          },
          "metadata": {},
          "execution_count": 27
        }
      ]
    },
    {
      "cell_type": "code",
      "source": [
        "## (vi) Write a Python function to find the mean absolute deviation (MAD) of a list of numbers.\n",
        "def calculate_mad(int_list2):\n",
        "  mean=np.mean(int_list2)\n",
        "  absolute_deviation=[abs(x-mean) for x in int_list2]\n",
        "  mad=np.mean(absolute_deviation)\n",
        "  return mad\n"
      ],
      "metadata": {
        "id": "03zuTXe5S7vI"
      },
      "execution_count": 28,
      "outputs": []
    },
    {
      "cell_type": "code",
      "source": [
        "  calculate_mad(int_list2=(list(np.random.randint(200,300,500))))\n"
      ],
      "metadata": {
        "colab": {
          "base_uri": "https://localhost:8080/"
        },
        "id": "LUcnIs5qS7yH",
        "outputId": "173ce9df-4f6b-4a95-9a0d-d74de0301a88"
      },
      "execution_count": 29,
      "outputs": [
        {
          "output_type": "execute_result",
          "data": {
            "text/plain": [
              "25.06128"
            ]
          },
          "metadata": {},
          "execution_count": 29
        }
      ]
    },
    {
      "cell_type": "code",
      "source": [
        "##  (vii) Create a program to calculate the quartile deviation of a list of values.\n",
        "def quartile_deviation(int_list2):\n",
        "  return (np.percentile(int_list2,75)-np.percentile(int_list2,25))/2"
      ],
      "metadata": {
        "id": "ZJ2tl1cUS713"
      },
      "execution_count": 30,
      "outputs": []
    },
    {
      "cell_type": "code",
      "source": [
        "quartile_deviation(int_list2=(list(np.random.randint(200,300,500))))"
      ],
      "metadata": {
        "colab": {
          "base_uri": "https://localhost:8080/"
        },
        "id": "aD13N1o3S760",
        "outputId": "d9b3b8cf-8137-488a-bafb-a95f82f9dad4"
      },
      "execution_count": 31,
      "outputs": [
        {
          "output_type": "execute_result",
          "data": {
            "text/plain": [
              "24.5"
            ]
          },
          "metadata": {},
          "execution_count": 31
        }
      ]
    },
    {
      "cell_type": "code",
      "source": [
        "## (viii) Implement a function to find the range-based coefficient of dispersion for a dataset\n",
        "def cofficient_of_depresssion(int_list2):\n",
        "  return (max(int_list2)-min(int_list2))/(max(int_list2)+(min(int_list2)))*100"
      ],
      "metadata": {
        "id": "-tYN0CS0S79P"
      },
      "execution_count": 32,
      "outputs": []
    },
    {
      "cell_type": "code",
      "source": [
        "cofficient_of_depresssion(int_list2=(list(np.random.randint(200,300,500))))"
      ],
      "metadata": {
        "colab": {
          "base_uri": "https://localhost:8080/"
        },
        "id": "xDu_ahqVS7_g",
        "outputId": "6d1f31ad-9572-41b3-cd03-74138df5e514"
      },
      "execution_count": 33,
      "outputs": [
        {
          "output_type": "execute_result",
          "data": {
            "text/plain": [
              "19.839679358717436"
            ]
          },
          "metadata": {},
          "execution_count": 33
        }
      ]
    },
    {
      "cell_type": "code",
      "source": [
        "class discrete:\n",
        "  def __init__(self,values,probabilities):\n",
        "    self.values=values\n",
        "    self.probabilities=probabilities\n",
        "  def expected_value(self):\n",
        "    return sum(value*probabilities for value,probabilities in zip(self.values,self.probabilities))\n",
        "  def variance(self):\n",
        "    expected=self.expected_value()\n",
        "    return sum((value-expected)**2*probabilities for value,probabilities in zip(self.values,self.probabilities))"
      ],
      "metadata": {
        "id": "a6nto6PvXVUm"
      },
      "execution_count": 34,
      "outputs": []
    },
    {
      "cell_type": "code",
      "source": [
        "values=[1,2,3,4,5,6]\n",
        "probabilities=[1/6,1/6,1/6,1/6,1/6,1/6]\n",
        "die_roll=discrete(values,probabilities)\n",
        "expected_value=die_roll.expected_value()\n",
        "variance=die_roll.variance()\n",
        "print(f'expected_value:{expected_value}')\n",
        "print(f\"variance:{variance}\")"
      ],
      "metadata": {
        "colab": {
          "base_uri": "https://localhost:8080/"
        },
        "id": "NG0-sa3HDKq8",
        "outputId": "b6b5013b-f2fb-44db-ee42-fb2f9e419108"
      },
      "execution_count": 35,
      "outputs": [
        {
          "output_type": "stream",
          "name": "stdout",
          "text": [
            "expected_value:3.5\n",
            "variance:2.9166666666666665\n"
          ]
        }
      ]
    },
    {
      "cell_type": "code",
      "source": [
        "## Create a Python function to generate random samples from a given probability distribution (e.g.,\n",
        "## binomial, Poisson) and calculate their mean and variance\n",
        "def poi_bio(distribution,**kwargs):\n",
        "  if distribution==\"bionmial\":\n",
        "    sample=np.random.binomial(n=kwargs['n'],p=kwargs['p'],size=kwargs['size'])\n",
        "    theoretical_mean=kwargs['n']*kwargs['p']\n",
        "    theoretical_variance=kwargs['n']*kwargs['p']*(1-kwargs['p'])\n",
        "  elif distribution==\"poisson\":\n",
        "    sample=np.random.poisson(lam=kwargs['lam'],size=kwargs['size'])\n",
        "    theoretical_mean=kwargs['lam']\n",
        "    theoretical_variance=kwargs['lam']\n",
        "  return sample,theoretical_mean,theoretical_mean\n",
        "\n",
        "\n",
        "\n"
      ],
      "metadata": {
        "id": "OhzLaFmdS8JT"
      },
      "execution_count": 36,
      "outputs": []
    },
    {
      "cell_type": "code",
      "source": [
        "poi_bio(distribution=\"bionmial\",n=10,p=0.5,size=100)\n",
        "\n"
      ],
      "metadata": {
        "id": "FaPSVlywJZUE",
        "colab": {
          "base_uri": "https://localhost:8080/"
        },
        "outputId": "0dbaeb7c-7a5a-4c96-bd17-bac33972831d"
      },
      "execution_count": 37,
      "outputs": [
        {
          "output_type": "execute_result",
          "data": {
            "text/plain": [
              "(array([3, 5, 2, 6, 6, 3, 4, 7, 5, 5, 6, 5, 7, 5, 5, 5, 7, 5, 3, 5, 4, 6,\n",
              "        3, 7, 8, 4, 4, 4, 7, 7, 7, 7, 6, 7, 2, 8, 6, 5, 3, 5, 5, 4, 5, 3,\n",
              "        5, 3, 4, 6, 3, 6, 5, 7, 5, 7, 8, 8, 6, 4, 4, 4, 5, 2, 3, 6, 3, 7,\n",
              "        3, 3, 6, 3, 4, 7, 6, 3, 5, 4, 7, 7, 6, 3, 7, 5, 6, 5, 7, 6, 3, 5,\n",
              "        4, 7, 6, 7, 7, 6, 4, 6, 3, 8, 5, 4]),\n",
              " 5.0,\n",
              " 5.0)"
            ]
          },
          "metadata": {},
          "execution_count": 37
        }
      ]
    },
    {
      "cell_type": "code",
      "source": [
        "poi_bio(distribution=\"poisson\",lam=10,size=100)\n"
      ],
      "metadata": {
        "colab": {
          "base_uri": "https://localhost:8080/"
        },
        "id": "ZljuxxaAcwCf",
        "outputId": "5a2e0f3a-9f97-43e2-9e5a-dcb84b2c093d"
      },
      "execution_count": 38,
      "outputs": [
        {
          "output_type": "execute_result",
          "data": {
            "text/plain": [
              "(array([ 7,  9, 15,  8, 12,  8, 10, 12, 13,  8,  8, 12,  9, 13, 10, 11, 15,\n",
              "        14,  8,  9,  9, 12, 11,  6,  9, 13,  9,  8, 15, 15, 15, 13,  1,  5,\n",
              "        11,  8,  7,  6,  6,  6, 10,  9,  8,  8,  6,  7, 14, 11,  9,  8,  9,\n",
              "        10,  4, 11, 13, 12, 11,  6,  8,  5, 11, 10, 11, 12,  9, 12,  8, 15,\n",
              "         8,  9, 11, 11, 10,  8, 12,  4,  7, 14,  9,  9, 17, 11, 12, 12,  9,\n",
              "        10,  9, 10, 10, 10, 12,  8, 15, 12,  4, 13,  8, 11,  7, 10]),\n",
              " 10,\n",
              " 10)"
            ]
          },
          "metadata": {},
          "execution_count": 38
        }
      ]
    },
    {
      "cell_type": "code",
      "source": [
        "## Write a Python script to generate random numbers from a Gaussian (normal) distribution and compute\n",
        "## the mean, variance, and standard deviation of the samples.\n",
        "data=np.random.normal(loc=50,scale=5,size=200)\n",
        "a=np.mean(data)\n",
        "b=np.var(data)\n",
        "c=np.std(data)\n",
        "a,b,c"
      ],
      "metadata": {
        "colab": {
          "base_uri": "https://localhost:8080/"
        },
        "id": "_-Wqtac-eNp1",
        "outputId": "826b24ca-7699-40dc-e1e2-aa62edb96e5e"
      },
      "execution_count": 39,
      "outputs": [
        {
          "output_type": "execute_result",
          "data": {
            "text/plain": [
              "(49.91568443390248, 23.4251850275902, 4.839957130759548)"
            ]
          },
          "metadata": {},
          "execution_count": 39
        }
      ]
    },
    {
      "cell_type": "code",
      "source": [
        "## Use seaborn library to load tips dataset. Find the following from the dataset for the columns total_bill\n",
        "## and tip`:\n",
        "##  (i) Write a Python function that calculates their skewness\n",
        "df=sns.load_dataset(\"tips\")\n"
      ],
      "metadata": {
        "id": "pgvucQBNeN1b"
      },
      "execution_count": 40,
      "outputs": []
    },
    {
      "cell_type": "code",
      "source": [
        "df"
      ],
      "metadata": {
        "colab": {
          "base_uri": "https://localhost:8080/",
          "height": 424
        },
        "id": "nqqkLHebeN8c",
        "outputId": "d17cf4d6-bddb-4dc1-9e74-77a8c977d827"
      },
      "execution_count": 41,
      "outputs": [
        {
          "output_type": "execute_result",
          "data": {
            "text/plain": [
              "     total_bill   tip     sex smoker   day    time  size\n",
              "0         16.99  1.01  Female     No   Sun  Dinner     2\n",
              "1         10.34  1.66    Male     No   Sun  Dinner     3\n",
              "2         21.01  3.50    Male     No   Sun  Dinner     3\n",
              "3         23.68  3.31    Male     No   Sun  Dinner     2\n",
              "4         24.59  3.61  Female     No   Sun  Dinner     4\n",
              "..          ...   ...     ...    ...   ...     ...   ...\n",
              "239       29.03  5.92    Male     No   Sat  Dinner     3\n",
              "240       27.18  2.00  Female    Yes   Sat  Dinner     2\n",
              "241       22.67  2.00    Male    Yes   Sat  Dinner     2\n",
              "242       17.82  1.75    Male     No   Sat  Dinner     2\n",
              "243       18.78  3.00  Female     No  Thur  Dinner     2\n",
              "\n",
              "[244 rows x 7 columns]"
            ],
            "text/html": [
              "\n",
              "  <div id=\"df-f63bcac2-6716-4891-899a-898fb751d4c2\" class=\"colab-df-container\">\n",
              "    <div>\n",
              "<style scoped>\n",
              "    .dataframe tbody tr th:only-of-type {\n",
              "        vertical-align: middle;\n",
              "    }\n",
              "\n",
              "    .dataframe tbody tr th {\n",
              "        vertical-align: top;\n",
              "    }\n",
              "\n",
              "    .dataframe thead th {\n",
              "        text-align: right;\n",
              "    }\n",
              "</style>\n",
              "<table border=\"1\" class=\"dataframe\">\n",
              "  <thead>\n",
              "    <tr style=\"text-align: right;\">\n",
              "      <th></th>\n",
              "      <th>total_bill</th>\n",
              "      <th>tip</th>\n",
              "      <th>sex</th>\n",
              "      <th>smoker</th>\n",
              "      <th>day</th>\n",
              "      <th>time</th>\n",
              "      <th>size</th>\n",
              "    </tr>\n",
              "  </thead>\n",
              "  <tbody>\n",
              "    <tr>\n",
              "      <th>0</th>\n",
              "      <td>16.99</td>\n",
              "      <td>1.01</td>\n",
              "      <td>Female</td>\n",
              "      <td>No</td>\n",
              "      <td>Sun</td>\n",
              "      <td>Dinner</td>\n",
              "      <td>2</td>\n",
              "    </tr>\n",
              "    <tr>\n",
              "      <th>1</th>\n",
              "      <td>10.34</td>\n",
              "      <td>1.66</td>\n",
              "      <td>Male</td>\n",
              "      <td>No</td>\n",
              "      <td>Sun</td>\n",
              "      <td>Dinner</td>\n",
              "      <td>3</td>\n",
              "    </tr>\n",
              "    <tr>\n",
              "      <th>2</th>\n",
              "      <td>21.01</td>\n",
              "      <td>3.50</td>\n",
              "      <td>Male</td>\n",
              "      <td>No</td>\n",
              "      <td>Sun</td>\n",
              "      <td>Dinner</td>\n",
              "      <td>3</td>\n",
              "    </tr>\n",
              "    <tr>\n",
              "      <th>3</th>\n",
              "      <td>23.68</td>\n",
              "      <td>3.31</td>\n",
              "      <td>Male</td>\n",
              "      <td>No</td>\n",
              "      <td>Sun</td>\n",
              "      <td>Dinner</td>\n",
              "      <td>2</td>\n",
              "    </tr>\n",
              "    <tr>\n",
              "      <th>4</th>\n",
              "      <td>24.59</td>\n",
              "      <td>3.61</td>\n",
              "      <td>Female</td>\n",
              "      <td>No</td>\n",
              "      <td>Sun</td>\n",
              "      <td>Dinner</td>\n",
              "      <td>4</td>\n",
              "    </tr>\n",
              "    <tr>\n",
              "      <th>...</th>\n",
              "      <td>...</td>\n",
              "      <td>...</td>\n",
              "      <td>...</td>\n",
              "      <td>...</td>\n",
              "      <td>...</td>\n",
              "      <td>...</td>\n",
              "      <td>...</td>\n",
              "    </tr>\n",
              "    <tr>\n",
              "      <th>239</th>\n",
              "      <td>29.03</td>\n",
              "      <td>5.92</td>\n",
              "      <td>Male</td>\n",
              "      <td>No</td>\n",
              "      <td>Sat</td>\n",
              "      <td>Dinner</td>\n",
              "      <td>3</td>\n",
              "    </tr>\n",
              "    <tr>\n",
              "      <th>240</th>\n",
              "      <td>27.18</td>\n",
              "      <td>2.00</td>\n",
              "      <td>Female</td>\n",
              "      <td>Yes</td>\n",
              "      <td>Sat</td>\n",
              "      <td>Dinner</td>\n",
              "      <td>2</td>\n",
              "    </tr>\n",
              "    <tr>\n",
              "      <th>241</th>\n",
              "      <td>22.67</td>\n",
              "      <td>2.00</td>\n",
              "      <td>Male</td>\n",
              "      <td>Yes</td>\n",
              "      <td>Sat</td>\n",
              "      <td>Dinner</td>\n",
              "      <td>2</td>\n",
              "    </tr>\n",
              "    <tr>\n",
              "      <th>242</th>\n",
              "      <td>17.82</td>\n",
              "      <td>1.75</td>\n",
              "      <td>Male</td>\n",
              "      <td>No</td>\n",
              "      <td>Sat</td>\n",
              "      <td>Dinner</td>\n",
              "      <td>2</td>\n",
              "    </tr>\n",
              "    <tr>\n",
              "      <th>243</th>\n",
              "      <td>18.78</td>\n",
              "      <td>3.00</td>\n",
              "      <td>Female</td>\n",
              "      <td>No</td>\n",
              "      <td>Thur</td>\n",
              "      <td>Dinner</td>\n",
              "      <td>2</td>\n",
              "    </tr>\n",
              "  </tbody>\n",
              "</table>\n",
              "<p>244 rows × 7 columns</p>\n",
              "</div>\n",
              "    <div class=\"colab-df-buttons\">\n",
              "\n",
              "  <div class=\"colab-df-container\">\n",
              "    <button class=\"colab-df-convert\" onclick=\"convertToInteractive('df-f63bcac2-6716-4891-899a-898fb751d4c2')\"\n",
              "            title=\"Convert this dataframe to an interactive table.\"\n",
              "            style=\"display:none;\">\n",
              "\n",
              "  <svg xmlns=\"http://www.w3.org/2000/svg\" height=\"24px\" viewBox=\"0 -960 960 960\">\n",
              "    <path d=\"M120-120v-720h720v720H120Zm60-500h600v-160H180v160Zm220 220h160v-160H400v160Zm0 220h160v-160H400v160ZM180-400h160v-160H180v160Zm440 0h160v-160H620v160ZM180-180h160v-160H180v160Zm440 0h160v-160H620v160Z\"/>\n",
              "  </svg>\n",
              "    </button>\n",
              "\n",
              "  <style>\n",
              "    .colab-df-container {\n",
              "      display:flex;\n",
              "      gap: 12px;\n",
              "    }\n",
              "\n",
              "    .colab-df-convert {\n",
              "      background-color: #E8F0FE;\n",
              "      border: none;\n",
              "      border-radius: 50%;\n",
              "      cursor: pointer;\n",
              "      display: none;\n",
              "      fill: #1967D2;\n",
              "      height: 32px;\n",
              "      padding: 0 0 0 0;\n",
              "      width: 32px;\n",
              "    }\n",
              "\n",
              "    .colab-df-convert:hover {\n",
              "      background-color: #E2EBFA;\n",
              "      box-shadow: 0px 1px 2px rgba(60, 64, 67, 0.3), 0px 1px 3px 1px rgba(60, 64, 67, 0.15);\n",
              "      fill: #174EA6;\n",
              "    }\n",
              "\n",
              "    .colab-df-buttons div {\n",
              "      margin-bottom: 4px;\n",
              "    }\n",
              "\n",
              "    [theme=dark] .colab-df-convert {\n",
              "      background-color: #3B4455;\n",
              "      fill: #D2E3FC;\n",
              "    }\n",
              "\n",
              "    [theme=dark] .colab-df-convert:hover {\n",
              "      background-color: #434B5C;\n",
              "      box-shadow: 0px 1px 3px 1px rgba(0, 0, 0, 0.15);\n",
              "      filter: drop-shadow(0px 1px 2px rgba(0, 0, 0, 0.3));\n",
              "      fill: #FFFFFF;\n",
              "    }\n",
              "  </style>\n",
              "\n",
              "    <script>\n",
              "      const buttonEl =\n",
              "        document.querySelector('#df-f63bcac2-6716-4891-899a-898fb751d4c2 button.colab-df-convert');\n",
              "      buttonEl.style.display =\n",
              "        google.colab.kernel.accessAllowed ? 'block' : 'none';\n",
              "\n",
              "      async function convertToInteractive(key) {\n",
              "        const element = document.querySelector('#df-f63bcac2-6716-4891-899a-898fb751d4c2');\n",
              "        const dataTable =\n",
              "          await google.colab.kernel.invokeFunction('convertToInteractive',\n",
              "                                                    [key], {});\n",
              "        if (!dataTable) return;\n",
              "\n",
              "        const docLinkHtml = 'Like what you see? Visit the ' +\n",
              "          '<a target=\"_blank\" href=https://colab.research.google.com/notebooks/data_table.ipynb>data table notebook</a>'\n",
              "          + ' to learn more about interactive tables.';\n",
              "        element.innerHTML = '';\n",
              "        dataTable['output_type'] = 'display_data';\n",
              "        await google.colab.output.renderOutput(dataTable, element);\n",
              "        const docLink = document.createElement('div');\n",
              "        docLink.innerHTML = docLinkHtml;\n",
              "        element.appendChild(docLink);\n",
              "      }\n",
              "    </script>\n",
              "  </div>\n",
              "\n",
              "\n",
              "<div id=\"df-06672a98-8110-4232-89f3-3394c8f86369\">\n",
              "  <button class=\"colab-df-quickchart\" onclick=\"quickchart('df-06672a98-8110-4232-89f3-3394c8f86369')\"\n",
              "            title=\"Suggest charts\"\n",
              "            style=\"display:none;\">\n",
              "\n",
              "<svg xmlns=\"http://www.w3.org/2000/svg\" height=\"24px\"viewBox=\"0 0 24 24\"\n",
              "     width=\"24px\">\n",
              "    <g>\n",
              "        <path d=\"M19 3H5c-1.1 0-2 .9-2 2v14c0 1.1.9 2 2 2h14c1.1 0 2-.9 2-2V5c0-1.1-.9-2-2-2zM9 17H7v-7h2v7zm4 0h-2V7h2v10zm4 0h-2v-4h2v4z\"/>\n",
              "    </g>\n",
              "</svg>\n",
              "  </button>\n",
              "\n",
              "<style>\n",
              "  .colab-df-quickchart {\n",
              "      --bg-color: #E8F0FE;\n",
              "      --fill-color: #1967D2;\n",
              "      --hover-bg-color: #E2EBFA;\n",
              "      --hover-fill-color: #174EA6;\n",
              "      --disabled-fill-color: #AAA;\n",
              "      --disabled-bg-color: #DDD;\n",
              "  }\n",
              "\n",
              "  [theme=dark] .colab-df-quickchart {\n",
              "      --bg-color: #3B4455;\n",
              "      --fill-color: #D2E3FC;\n",
              "      --hover-bg-color: #434B5C;\n",
              "      --hover-fill-color: #FFFFFF;\n",
              "      --disabled-bg-color: #3B4455;\n",
              "      --disabled-fill-color: #666;\n",
              "  }\n",
              "\n",
              "  .colab-df-quickchart {\n",
              "    background-color: var(--bg-color);\n",
              "    border: none;\n",
              "    border-radius: 50%;\n",
              "    cursor: pointer;\n",
              "    display: none;\n",
              "    fill: var(--fill-color);\n",
              "    height: 32px;\n",
              "    padding: 0;\n",
              "    width: 32px;\n",
              "  }\n",
              "\n",
              "  .colab-df-quickchart:hover {\n",
              "    background-color: var(--hover-bg-color);\n",
              "    box-shadow: 0 1px 2px rgba(60, 64, 67, 0.3), 0 1px 3px 1px rgba(60, 64, 67, 0.15);\n",
              "    fill: var(--button-hover-fill-color);\n",
              "  }\n",
              "\n",
              "  .colab-df-quickchart-complete:disabled,\n",
              "  .colab-df-quickchart-complete:disabled:hover {\n",
              "    background-color: var(--disabled-bg-color);\n",
              "    fill: var(--disabled-fill-color);\n",
              "    box-shadow: none;\n",
              "  }\n",
              "\n",
              "  .colab-df-spinner {\n",
              "    border: 2px solid var(--fill-color);\n",
              "    border-color: transparent;\n",
              "    border-bottom-color: var(--fill-color);\n",
              "    animation:\n",
              "      spin 1s steps(1) infinite;\n",
              "  }\n",
              "\n",
              "  @keyframes spin {\n",
              "    0% {\n",
              "      border-color: transparent;\n",
              "      border-bottom-color: var(--fill-color);\n",
              "      border-left-color: var(--fill-color);\n",
              "    }\n",
              "    20% {\n",
              "      border-color: transparent;\n",
              "      border-left-color: var(--fill-color);\n",
              "      border-top-color: var(--fill-color);\n",
              "    }\n",
              "    30% {\n",
              "      border-color: transparent;\n",
              "      border-left-color: var(--fill-color);\n",
              "      border-top-color: var(--fill-color);\n",
              "      border-right-color: var(--fill-color);\n",
              "    }\n",
              "    40% {\n",
              "      border-color: transparent;\n",
              "      border-right-color: var(--fill-color);\n",
              "      border-top-color: var(--fill-color);\n",
              "    }\n",
              "    60% {\n",
              "      border-color: transparent;\n",
              "      border-right-color: var(--fill-color);\n",
              "    }\n",
              "    80% {\n",
              "      border-color: transparent;\n",
              "      border-right-color: var(--fill-color);\n",
              "      border-bottom-color: var(--fill-color);\n",
              "    }\n",
              "    90% {\n",
              "      border-color: transparent;\n",
              "      border-bottom-color: var(--fill-color);\n",
              "    }\n",
              "  }\n",
              "</style>\n",
              "\n",
              "  <script>\n",
              "    async function quickchart(key) {\n",
              "      const quickchartButtonEl =\n",
              "        document.querySelector('#' + key + ' button');\n",
              "      quickchartButtonEl.disabled = true;  // To prevent multiple clicks.\n",
              "      quickchartButtonEl.classList.add('colab-df-spinner');\n",
              "      try {\n",
              "        const charts = await google.colab.kernel.invokeFunction(\n",
              "            'suggestCharts', [key], {});\n",
              "      } catch (error) {\n",
              "        console.error('Error during call to suggestCharts:', error);\n",
              "      }\n",
              "      quickchartButtonEl.classList.remove('colab-df-spinner');\n",
              "      quickchartButtonEl.classList.add('colab-df-quickchart-complete');\n",
              "    }\n",
              "    (() => {\n",
              "      let quickchartButtonEl =\n",
              "        document.querySelector('#df-06672a98-8110-4232-89f3-3394c8f86369 button');\n",
              "      quickchartButtonEl.style.display =\n",
              "        google.colab.kernel.accessAllowed ? 'block' : 'none';\n",
              "    })();\n",
              "  </script>\n",
              "</div>\n",
              "\n",
              "  <div id=\"id_c61aac15-98a2-490a-ac09-96d104c1ccdb\">\n",
              "    <style>\n",
              "      .colab-df-generate {\n",
              "        background-color: #E8F0FE;\n",
              "        border: none;\n",
              "        border-radius: 50%;\n",
              "        cursor: pointer;\n",
              "        display: none;\n",
              "        fill: #1967D2;\n",
              "        height: 32px;\n",
              "        padding: 0 0 0 0;\n",
              "        width: 32px;\n",
              "      }\n",
              "\n",
              "      .colab-df-generate:hover {\n",
              "        background-color: #E2EBFA;\n",
              "        box-shadow: 0px 1px 2px rgba(60, 64, 67, 0.3), 0px 1px 3px 1px rgba(60, 64, 67, 0.15);\n",
              "        fill: #174EA6;\n",
              "      }\n",
              "\n",
              "      [theme=dark] .colab-df-generate {\n",
              "        background-color: #3B4455;\n",
              "        fill: #D2E3FC;\n",
              "      }\n",
              "\n",
              "      [theme=dark] .colab-df-generate:hover {\n",
              "        background-color: #434B5C;\n",
              "        box-shadow: 0px 1px 3px 1px rgba(0, 0, 0, 0.15);\n",
              "        filter: drop-shadow(0px 1px 2px rgba(0, 0, 0, 0.3));\n",
              "        fill: #FFFFFF;\n",
              "      }\n",
              "    </style>\n",
              "    <button class=\"colab-df-generate\" onclick=\"generateWithVariable('df')\"\n",
              "            title=\"Generate code using this dataframe.\"\n",
              "            style=\"display:none;\">\n",
              "\n",
              "  <svg xmlns=\"http://www.w3.org/2000/svg\" height=\"24px\"viewBox=\"0 0 24 24\"\n",
              "       width=\"24px\">\n",
              "    <path d=\"M7,19H8.4L18.45,9,17,7.55,7,17.6ZM5,21V16.75L18.45,3.32a2,2,0,0,1,2.83,0l1.4,1.43a1.91,1.91,0,0,1,.58,1.4,1.91,1.91,0,0,1-.58,1.4L9.25,21ZM18.45,9,17,7.55Zm-12,3A5.31,5.31,0,0,0,4.9,8.1,5.31,5.31,0,0,0,1,6.5,5.31,5.31,0,0,0,4.9,4.9,5.31,5.31,0,0,0,6.5,1,5.31,5.31,0,0,0,8.1,4.9,5.31,5.31,0,0,0,12,6.5,5.46,5.46,0,0,0,6.5,12Z\"/>\n",
              "  </svg>\n",
              "    </button>\n",
              "    <script>\n",
              "      (() => {\n",
              "      const buttonEl =\n",
              "        document.querySelector('#id_c61aac15-98a2-490a-ac09-96d104c1ccdb button.colab-df-generate');\n",
              "      buttonEl.style.display =\n",
              "        google.colab.kernel.accessAllowed ? 'block' : 'none';\n",
              "\n",
              "      buttonEl.onclick = () => {\n",
              "        google.colab.notebook.generateWithVariable('df');\n",
              "      }\n",
              "      })();\n",
              "    </script>\n",
              "  </div>\n",
              "\n",
              "    </div>\n",
              "  </div>\n"
            ],
            "application/vnd.google.colaboratory.intrinsic+json": {
              "type": "dataframe",
              "variable_name": "df",
              "summary": "{\n  \"name\": \"df\",\n  \"rows\": 244,\n  \"fields\": [\n    {\n      \"column\": \"total_bill\",\n      \"properties\": {\n        \"dtype\": \"number\",\n        \"std\": 8.902411954856856,\n        \"min\": 3.07,\n        \"max\": 50.81,\n        \"num_unique_values\": 229,\n        \"samples\": [\n          22.12,\n          20.23,\n          14.78\n        ],\n        \"semantic_type\": \"\",\n        \"description\": \"\"\n      }\n    },\n    {\n      \"column\": \"tip\",\n      \"properties\": {\n        \"dtype\": \"number\",\n        \"std\": 1.3836381890011826,\n        \"min\": 1.0,\n        \"max\": 10.0,\n        \"num_unique_values\": 123,\n        \"samples\": [\n          3.35,\n          1.5,\n          6.73\n        ],\n        \"semantic_type\": \"\",\n        \"description\": \"\"\n      }\n    },\n    {\n      \"column\": \"sex\",\n      \"properties\": {\n        \"dtype\": \"category\",\n        \"num_unique_values\": 2,\n        \"samples\": [\n          \"Male\",\n          \"Female\"\n        ],\n        \"semantic_type\": \"\",\n        \"description\": \"\"\n      }\n    },\n    {\n      \"column\": \"smoker\",\n      \"properties\": {\n        \"dtype\": \"category\",\n        \"num_unique_values\": 2,\n        \"samples\": [\n          \"Yes\",\n          \"No\"\n        ],\n        \"semantic_type\": \"\",\n        \"description\": \"\"\n      }\n    },\n    {\n      \"column\": \"day\",\n      \"properties\": {\n        \"dtype\": \"category\",\n        \"num_unique_values\": 4,\n        \"samples\": [\n          \"Sat\",\n          \"Fri\"\n        ],\n        \"semantic_type\": \"\",\n        \"description\": \"\"\n      }\n    },\n    {\n      \"column\": \"time\",\n      \"properties\": {\n        \"dtype\": \"category\",\n        \"num_unique_values\": 2,\n        \"samples\": [\n          \"Lunch\",\n          \"Dinner\"\n        ],\n        \"semantic_type\": \"\",\n        \"description\": \"\"\n      }\n    },\n    {\n      \"column\": \"size\",\n      \"properties\": {\n        \"dtype\": \"number\",\n        \"std\": 0,\n        \"min\": 1,\n        \"max\": 6,\n        \"num_unique_values\": 6,\n        \"samples\": [\n          2,\n          3\n        ],\n        \"semantic_type\": \"\",\n        \"description\": \"\"\n      }\n    }\n  ]\n}"
            }
          },
          "metadata": {},
          "execution_count": 41
        }
      ]
    },
    {
      "cell_type": "code",
      "source": [
        "def skewness(*kwargs):\n",
        "  value=kwargs[0]\n",
        "  n=len(value)\n",
        "  mean=np.mean(value)\n",
        "  std_dev=np.std(value)\n",
        "  third_central_moment=np.sum((value-mean)**3)/n\n",
        "  skewness=third_central_moment/(std_dev**3)\n",
        "  return skewness"
      ],
      "metadata": {
        "id": "rBbT9rj8eN_c"
      },
      "execution_count": 42,
      "outputs": []
    },
    {
      "cell_type": "code",
      "source": [
        "skewness(df['total_bill'])\n"
      ],
      "metadata": {
        "colab": {
          "base_uri": "https://localhost:8080/"
        },
        "id": "R4UDIp0seOCU",
        "outputId": "77490ad2-c6f0-402c-d7f8-370db8079498"
      },
      "execution_count": 43,
      "outputs": [
        {
          "output_type": "execute_result",
          "data": {
            "text/plain": [
              "1.1262346334818645"
            ]
          },
          "metadata": {},
          "execution_count": 43
        }
      ]
    },
    {
      "cell_type": "code",
      "source": [
        "skewness(df[\"tip\"])"
      ],
      "metadata": {
        "colab": {
          "base_uri": "https://localhost:8080/"
        },
        "id": "ifLhtvpgeOE-",
        "outputId": "2328556e-fa4d-4f26-c3a8-5a90874ca786"
      },
      "execution_count": 44,
      "outputs": [
        {
          "output_type": "execute_result",
          "data": {
            "text/plain": [
              "1.456426688422149"
            ]
          },
          "metadata": {},
          "execution_count": 44
        }
      ]
    },
    {
      "cell_type": "code",
      "source": [
        "##  (ii) Create a program that determines whether the columns exhibit positive skewness, negative skewness, or is\n",
        "## approximately symmetric."
      ],
      "metadata": {
        "id": "v7BGee9keOH4"
      },
      "execution_count": 45,
      "outputs": []
    },
    {
      "cell_type": "code",
      "source": [
        "data=df[['total_bill',\"tip\"]]"
      ],
      "metadata": {
        "id": "frCpp9j-iGjP"
      },
      "execution_count": 46,
      "outputs": []
    },
    {
      "cell_type": "code",
      "source": [
        "def check_skewness(data):\n",
        "  skewness_value=data.skew()\n",
        "  skewness_values=[]\n",
        "  for column,skewness in skewness_value.items():\n",
        "    if skewness>0.5:\n",
        "     skewness_values.append(\"positive skew\")\n",
        "    elif skewness<-0.5:\n",
        "     skewness_values.append('negative skew')\n",
        "    else:\n",
        "     skewness_values.append(\"approximately symmetric\")\n",
        "\n",
        "  result=pd.DataFrame({\"column\":skewness_value.index,\"skewnewss\":skewness_value.values,\"skewness_type\":skewness_values})\n",
        "  return result\n",
        "\n",
        "\n",
        "\n"
      ],
      "metadata": {
        "id": "os69BEaaiGtX"
      },
      "execution_count": 47,
      "outputs": []
    },
    {
      "cell_type": "code",
      "source": [
        "check_skewness(data)"
      ],
      "metadata": {
        "colab": {
          "base_uri": "https://localhost:8080/",
          "height": 112
        },
        "id": "JTBne9FNqEO0",
        "outputId": "f4a403d4-b540-41ba-dd1d-14734167822a"
      },
      "execution_count": 48,
      "outputs": [
        {
          "output_type": "execute_result",
          "data": {
            "text/plain": [
              "       column  skewnewss  skewness_type\n",
              "0  total_bill   1.133213  positive skew\n",
              "1         tip   1.465451  positive skew"
            ],
            "text/html": [
              "\n",
              "  <div id=\"df-6181bb06-98aa-4ffe-8860-f4bf8811643e\" class=\"colab-df-container\">\n",
              "    <div>\n",
              "<style scoped>\n",
              "    .dataframe tbody tr th:only-of-type {\n",
              "        vertical-align: middle;\n",
              "    }\n",
              "\n",
              "    .dataframe tbody tr th {\n",
              "        vertical-align: top;\n",
              "    }\n",
              "\n",
              "    .dataframe thead th {\n",
              "        text-align: right;\n",
              "    }\n",
              "</style>\n",
              "<table border=\"1\" class=\"dataframe\">\n",
              "  <thead>\n",
              "    <tr style=\"text-align: right;\">\n",
              "      <th></th>\n",
              "      <th>column</th>\n",
              "      <th>skewnewss</th>\n",
              "      <th>skewness_type</th>\n",
              "    </tr>\n",
              "  </thead>\n",
              "  <tbody>\n",
              "    <tr>\n",
              "      <th>0</th>\n",
              "      <td>total_bill</td>\n",
              "      <td>1.133213</td>\n",
              "      <td>positive skew</td>\n",
              "    </tr>\n",
              "    <tr>\n",
              "      <th>1</th>\n",
              "      <td>tip</td>\n",
              "      <td>1.465451</td>\n",
              "      <td>positive skew</td>\n",
              "    </tr>\n",
              "  </tbody>\n",
              "</table>\n",
              "</div>\n",
              "    <div class=\"colab-df-buttons\">\n",
              "\n",
              "  <div class=\"colab-df-container\">\n",
              "    <button class=\"colab-df-convert\" onclick=\"convertToInteractive('df-6181bb06-98aa-4ffe-8860-f4bf8811643e')\"\n",
              "            title=\"Convert this dataframe to an interactive table.\"\n",
              "            style=\"display:none;\">\n",
              "\n",
              "  <svg xmlns=\"http://www.w3.org/2000/svg\" height=\"24px\" viewBox=\"0 -960 960 960\">\n",
              "    <path d=\"M120-120v-720h720v720H120Zm60-500h600v-160H180v160Zm220 220h160v-160H400v160Zm0 220h160v-160H400v160ZM180-400h160v-160H180v160Zm440 0h160v-160H620v160ZM180-180h160v-160H180v160Zm440 0h160v-160H620v160Z\"/>\n",
              "  </svg>\n",
              "    </button>\n",
              "\n",
              "  <style>\n",
              "    .colab-df-container {\n",
              "      display:flex;\n",
              "      gap: 12px;\n",
              "    }\n",
              "\n",
              "    .colab-df-convert {\n",
              "      background-color: #E8F0FE;\n",
              "      border: none;\n",
              "      border-radius: 50%;\n",
              "      cursor: pointer;\n",
              "      display: none;\n",
              "      fill: #1967D2;\n",
              "      height: 32px;\n",
              "      padding: 0 0 0 0;\n",
              "      width: 32px;\n",
              "    }\n",
              "\n",
              "    .colab-df-convert:hover {\n",
              "      background-color: #E2EBFA;\n",
              "      box-shadow: 0px 1px 2px rgba(60, 64, 67, 0.3), 0px 1px 3px 1px rgba(60, 64, 67, 0.15);\n",
              "      fill: #174EA6;\n",
              "    }\n",
              "\n",
              "    .colab-df-buttons div {\n",
              "      margin-bottom: 4px;\n",
              "    }\n",
              "\n",
              "    [theme=dark] .colab-df-convert {\n",
              "      background-color: #3B4455;\n",
              "      fill: #D2E3FC;\n",
              "    }\n",
              "\n",
              "    [theme=dark] .colab-df-convert:hover {\n",
              "      background-color: #434B5C;\n",
              "      box-shadow: 0px 1px 3px 1px rgba(0, 0, 0, 0.15);\n",
              "      filter: drop-shadow(0px 1px 2px rgba(0, 0, 0, 0.3));\n",
              "      fill: #FFFFFF;\n",
              "    }\n",
              "  </style>\n",
              "\n",
              "    <script>\n",
              "      const buttonEl =\n",
              "        document.querySelector('#df-6181bb06-98aa-4ffe-8860-f4bf8811643e button.colab-df-convert');\n",
              "      buttonEl.style.display =\n",
              "        google.colab.kernel.accessAllowed ? 'block' : 'none';\n",
              "\n",
              "      async function convertToInteractive(key) {\n",
              "        const element = document.querySelector('#df-6181bb06-98aa-4ffe-8860-f4bf8811643e');\n",
              "        const dataTable =\n",
              "          await google.colab.kernel.invokeFunction('convertToInteractive',\n",
              "                                                    [key], {});\n",
              "        if (!dataTable) return;\n",
              "\n",
              "        const docLinkHtml = 'Like what you see? Visit the ' +\n",
              "          '<a target=\"_blank\" href=https://colab.research.google.com/notebooks/data_table.ipynb>data table notebook</a>'\n",
              "          + ' to learn more about interactive tables.';\n",
              "        element.innerHTML = '';\n",
              "        dataTable['output_type'] = 'display_data';\n",
              "        await google.colab.output.renderOutput(dataTable, element);\n",
              "        const docLink = document.createElement('div');\n",
              "        docLink.innerHTML = docLinkHtml;\n",
              "        element.appendChild(docLink);\n",
              "      }\n",
              "    </script>\n",
              "  </div>\n",
              "\n",
              "\n",
              "<div id=\"df-63b98f9b-1151-4a84-a91a-cd1790fb6ddc\">\n",
              "  <button class=\"colab-df-quickchart\" onclick=\"quickchart('df-63b98f9b-1151-4a84-a91a-cd1790fb6ddc')\"\n",
              "            title=\"Suggest charts\"\n",
              "            style=\"display:none;\">\n",
              "\n",
              "<svg xmlns=\"http://www.w3.org/2000/svg\" height=\"24px\"viewBox=\"0 0 24 24\"\n",
              "     width=\"24px\">\n",
              "    <g>\n",
              "        <path d=\"M19 3H5c-1.1 0-2 .9-2 2v14c0 1.1.9 2 2 2h14c1.1 0 2-.9 2-2V5c0-1.1-.9-2-2-2zM9 17H7v-7h2v7zm4 0h-2V7h2v10zm4 0h-2v-4h2v4z\"/>\n",
              "    </g>\n",
              "</svg>\n",
              "  </button>\n",
              "\n",
              "<style>\n",
              "  .colab-df-quickchart {\n",
              "      --bg-color: #E8F0FE;\n",
              "      --fill-color: #1967D2;\n",
              "      --hover-bg-color: #E2EBFA;\n",
              "      --hover-fill-color: #174EA6;\n",
              "      --disabled-fill-color: #AAA;\n",
              "      --disabled-bg-color: #DDD;\n",
              "  }\n",
              "\n",
              "  [theme=dark] .colab-df-quickchart {\n",
              "      --bg-color: #3B4455;\n",
              "      --fill-color: #D2E3FC;\n",
              "      --hover-bg-color: #434B5C;\n",
              "      --hover-fill-color: #FFFFFF;\n",
              "      --disabled-bg-color: #3B4455;\n",
              "      --disabled-fill-color: #666;\n",
              "  }\n",
              "\n",
              "  .colab-df-quickchart {\n",
              "    background-color: var(--bg-color);\n",
              "    border: none;\n",
              "    border-radius: 50%;\n",
              "    cursor: pointer;\n",
              "    display: none;\n",
              "    fill: var(--fill-color);\n",
              "    height: 32px;\n",
              "    padding: 0;\n",
              "    width: 32px;\n",
              "  }\n",
              "\n",
              "  .colab-df-quickchart:hover {\n",
              "    background-color: var(--hover-bg-color);\n",
              "    box-shadow: 0 1px 2px rgba(60, 64, 67, 0.3), 0 1px 3px 1px rgba(60, 64, 67, 0.15);\n",
              "    fill: var(--button-hover-fill-color);\n",
              "  }\n",
              "\n",
              "  .colab-df-quickchart-complete:disabled,\n",
              "  .colab-df-quickchart-complete:disabled:hover {\n",
              "    background-color: var(--disabled-bg-color);\n",
              "    fill: var(--disabled-fill-color);\n",
              "    box-shadow: none;\n",
              "  }\n",
              "\n",
              "  .colab-df-spinner {\n",
              "    border: 2px solid var(--fill-color);\n",
              "    border-color: transparent;\n",
              "    border-bottom-color: var(--fill-color);\n",
              "    animation:\n",
              "      spin 1s steps(1) infinite;\n",
              "  }\n",
              "\n",
              "  @keyframes spin {\n",
              "    0% {\n",
              "      border-color: transparent;\n",
              "      border-bottom-color: var(--fill-color);\n",
              "      border-left-color: var(--fill-color);\n",
              "    }\n",
              "    20% {\n",
              "      border-color: transparent;\n",
              "      border-left-color: var(--fill-color);\n",
              "      border-top-color: var(--fill-color);\n",
              "    }\n",
              "    30% {\n",
              "      border-color: transparent;\n",
              "      border-left-color: var(--fill-color);\n",
              "      border-top-color: var(--fill-color);\n",
              "      border-right-color: var(--fill-color);\n",
              "    }\n",
              "    40% {\n",
              "      border-color: transparent;\n",
              "      border-right-color: var(--fill-color);\n",
              "      border-top-color: var(--fill-color);\n",
              "    }\n",
              "    60% {\n",
              "      border-color: transparent;\n",
              "      border-right-color: var(--fill-color);\n",
              "    }\n",
              "    80% {\n",
              "      border-color: transparent;\n",
              "      border-right-color: var(--fill-color);\n",
              "      border-bottom-color: var(--fill-color);\n",
              "    }\n",
              "    90% {\n",
              "      border-color: transparent;\n",
              "      border-bottom-color: var(--fill-color);\n",
              "    }\n",
              "  }\n",
              "</style>\n",
              "\n",
              "  <script>\n",
              "    async function quickchart(key) {\n",
              "      const quickchartButtonEl =\n",
              "        document.querySelector('#' + key + ' button');\n",
              "      quickchartButtonEl.disabled = true;  // To prevent multiple clicks.\n",
              "      quickchartButtonEl.classList.add('colab-df-spinner');\n",
              "      try {\n",
              "        const charts = await google.colab.kernel.invokeFunction(\n",
              "            'suggestCharts', [key], {});\n",
              "      } catch (error) {\n",
              "        console.error('Error during call to suggestCharts:', error);\n",
              "      }\n",
              "      quickchartButtonEl.classList.remove('colab-df-spinner');\n",
              "      quickchartButtonEl.classList.add('colab-df-quickchart-complete');\n",
              "    }\n",
              "    (() => {\n",
              "      let quickchartButtonEl =\n",
              "        document.querySelector('#df-63b98f9b-1151-4a84-a91a-cd1790fb6ddc button');\n",
              "      quickchartButtonEl.style.display =\n",
              "        google.colab.kernel.accessAllowed ? 'block' : 'none';\n",
              "    })();\n",
              "  </script>\n",
              "</div>\n",
              "\n",
              "    </div>\n",
              "  </div>\n"
            ],
            "application/vnd.google.colaboratory.intrinsic+json": {
              "type": "dataframe",
              "summary": "{\n  \"name\": \"check_skewness(data)\",\n  \"rows\": 2,\n  \"fields\": [\n    {\n      \"column\": \"column\",\n      \"properties\": {\n        \"dtype\": \"string\",\n        \"num_unique_values\": 2,\n        \"samples\": [\n          \"tip\",\n          \"total_bill\"\n        ],\n        \"semantic_type\": \"\",\n        \"description\": \"\"\n      }\n    },\n    {\n      \"column\": \"skewnewss\",\n      \"properties\": {\n        \"dtype\": \"number\",\n        \"std\": 0.23492774240165945,\n        \"min\": 1.1332130376158205,\n        \"max\": 1.4654510370979401,\n        \"num_unique_values\": 2,\n        \"samples\": [\n          1.4654510370979401,\n          1.1332130376158205\n        ],\n        \"semantic_type\": \"\",\n        \"description\": \"\"\n      }\n    },\n    {\n      \"column\": \"skewness_type\",\n      \"properties\": {\n        \"dtype\": \"string\",\n        \"num_unique_values\": 1,\n        \"samples\": [\n          \"positive skew\"\n        ],\n        \"semantic_type\": \"\",\n        \"description\": \"\"\n      }\n    }\n  ]\n}"
            }
          },
          "metadata": {},
          "execution_count": 48
        }
      ]
    },
    {
      "cell_type": "code",
      "source": [
        "##  (iii) Write a function that calculates the covariance between two columns\n",
        "def calculates_covariance(data):\n",
        "  return data['total_bill'].cov(data['tip'])\n"
      ],
      "metadata": {
        "id": "ybZeHF4hr3vW"
      },
      "execution_count": 49,
      "outputs": []
    },
    {
      "cell_type": "code",
      "source": [
        "calculates_covariance(data)"
      ],
      "metadata": {
        "colab": {
          "base_uri": "https://localhost:8080/"
        },
        "id": "92AhB0K1r4A2",
        "outputId": "7051c488-015a-480b-95fe-e4280c812316"
      },
      "execution_count": 50,
      "outputs": [
        {
          "output_type": "execute_result",
          "data": {
            "text/plain": [
              "8.323501629224854"
            ]
          },
          "metadata": {},
          "execution_count": 50
        }
      ]
    },
    {
      "cell_type": "code",
      "source": [
        "##  (iv) Implement a Python program that calculates the Pearson correlation coefficient between two columns\n",
        "def calculates_correlation(data):\n",
        "  return data['total_bill'].corr(data['tip'])"
      ],
      "metadata": {
        "id": "GUL6edR-r4IA"
      },
      "execution_count": 51,
      "outputs": []
    },
    {
      "cell_type": "code",
      "source": [
        "calculates_correlation(data)"
      ],
      "metadata": {
        "colab": {
          "base_uri": "https://localhost:8080/"
        },
        "id": "Pt9x5Vnlr4Ni",
        "outputId": "5f5d9515-a09e-4115-f922-ee6691557c4e"
      },
      "execution_count": 52,
      "outputs": [
        {
          "output_type": "execute_result",
          "data": {
            "text/plain": [
              "0.6757341092113641"
            ]
          },
          "metadata": {},
          "execution_count": 52
        }
      ]
    },
    {
      "cell_type": "code",
      "source": [
        " ## (v) Write a script to visualize the correlation between two specific columns in a Pandas DataFrame using\n",
        "##scatter plots.\n",
        "def visualize_correlation (data):\n",
        "  plt.figure(figsize=(8,6))\n",
        "  plt.scatter(data[\"total_bill\"],data[\"tip\"],color=\"red\")\n",
        "  plt.xlabel(\"total_bill\")\n",
        "  plt.ylabel('tip')\n",
        "  plt.title(\"ScatternPlot\")\n",
        "  plt.show()"
      ],
      "metadata": {
        "id": "t63affSqr4TU"
      },
      "execution_count": 53,
      "outputs": []
    },
    {
      "cell_type": "code",
      "source": [
        "visualize_correlation(data)"
      ],
      "metadata": {
        "colab": {
          "base_uri": "https://localhost:8080/",
          "height": 564
        },
        "id": "YKFqHZc7vl3m",
        "outputId": "14737b6d-2300-442d-e6bd-8772f248ac40"
      },
      "execution_count": 54,
      "outputs": [
        {
          "output_type": "display_data",
          "data": {
            "text/plain": [
              "<Figure size 800x600 with 1 Axes>"
            ],
            "image/png": "[encoded data removed]"
          },
          "metadata": {}
        }
      ]
    },
    {
      "cell_type": "code",
      "source": [
        "##) Write a Python function to calculate the probability density function (PDF) of a continuous random\n",
        "## variable for a given normal distribution.\n",
        "import math\n",
        "def normal_pdf(x,mu,sigma):\n",
        "  exponent=-((x-mu)**2)/(2*(sigma**2))\n",
        "  cofficient=1/(sigma*math.sqrt(2*math.pi))\n",
        "  pdf_value=cofficient*math.exp(exponent)\n",
        "  return pdf_value\n",
        "\n",
        "\n"
      ],
      "metadata": {
        "id": "APQve7jewKU9"
      },
      "execution_count": 55,
      "outputs": []
    },
    {
      "cell_type": "code",
      "source": [
        "normal_pdf(x=10,mu=8,sigma=2)"
      ],
      "metadata": {
        "colab": {
          "base_uri": "https://localhost:8080/"
        },
        "id": "_1KX58l-IWau",
        "outputId": "c8441a2e-d0bb-4671-d744-92eaa272f096"
      },
      "execution_count": 56,
      "outputs": [
        {
          "output_type": "execute_result",
          "data": {
            "text/plain": [
              "0.12098536225957168"
            ]
          },
          "metadata": {},
          "execution_count": 56
        }
      ]
    },
    {
      "cell_type": "code",
      "source": [
        "##¸Create a program to calculate the cumulative distribution function (CDF) of exponential distribution.\n",
        "def exponentia_cdf(x,lam):\n",
        "  if x<0:\n",
        "    return 0\n",
        "  else:\n",
        "    cdf_value=1-math.exp(-lam*x)\n",
        "    return cdf_value\n"
      ],
      "metadata": {
        "id": "yWLRDrP4IWmU"
      },
      "execution_count": 57,
      "outputs": []
    },
    {
      "cell_type": "code",
      "source": [
        "exponentia_cdf(lam=0.5,x=2)"
      ],
      "metadata": {
        "colab": {
          "base_uri": "https://localhost:8080/"
        },
        "id": "-JiQCTWoqGRn",
        "outputId": "2efa1423-6f97-4d8d-ec04-4ba14d873a5f"
      },
      "execution_count": 58,
      "outputs": [
        {
          "output_type": "execute_result",
          "data": {
            "text/plain": [
              "0.6321205588285577"
            ]
          },
          "metadata": {},
          "execution_count": 58
        }
      ]
    },
    {
      "cell_type": "code",
      "source": [
        "##Ð) Write a Python function to calculate the probability mass function (PMF) of Poisson distribution\n",
        "def possion_pmf(k,lam):\n",
        "  if k<0:\n",
        "    return 0\n",
        "  else:\n",
        "    pmf_value=(math.exp(-lam)**(lam**k))/math.factorial(k)\n",
        "    return print(f\"the pmf at k={k} is {pmf_value}\")"
      ],
      "metadata": {
        "id": "jnCd95m3qGdl"
      },
      "execution_count": 59,
      "outputs": []
    },
    {
      "cell_type": "code",
      "source": [
        "possion_pmf(k=3,lam=2)\n"
      ],
      "metadata": {
        "colab": {
          "base_uri": "https://localhost:8080/"
        },
        "id": "f2sgpkVU7YJF",
        "outputId": "9858e564-b3b8-4c59-c5fc-e80191496b3c"
      },
      "execution_count": 60,
      "outputs": [
        {
          "output_type": "stream",
          "name": "stdout",
          "text": [
            "the pmf at k=3 is 1.8755862453209864e-08\n"
          ]
        }
      ]
    },
    {
      "cell_type": "code",
      "source": [
        "##;;M A company wants to test if a new website layout leads to a higher conversion rate (percentage of visitors\n",
        "## who make a purchase). They collect data from the old and new layouts to compare.\n",
        "\n",
        "\n",
        "##To generate the data use the following command:\n",
        " ##50 purchases out of 1000 visitors\n",
        "\n",
        "##old_layout = np.array([1] * 50 + [0] * 950)\n",
        "\n",
        "##`python\n",
        "\n",
        "\n",
        "\n",
        "##\n",
        "## 70 purchases out of 1000 visitors\n",
        "\n",
        "##new_layout = np.array([1] * 70 + [0] * 930)\n",
        "\n",
        " ## ```\n",
        "\n",
        "##Apply z-test to find which layout is successful."
      ],
      "metadata": {
        "id": "ZGyhf2IU7YW8"
      },
      "execution_count": 61,
      "outputs": []
    },
    {
      "cell_type": "code",
      "source": [
        "# 50 purchases out of 1000 visitors\n",
        "from scipy import stats\n",
        "\n",
        "old_layout = np.array([1] * 50 + [0] * 950)\n",
        "\n",
        "# 70 purchases out of 1000 visitors\n",
        "alpha=0.05\n",
        "new_layout = np.array([1] * 70 + [0] * 930)\n",
        "p1=np.mean(old_layout)\n",
        "p2=np.mean(new_layout)\n",
        "p=(sum(old_layout)+sum(new_layout))/(len(old_layout)+len(new_layout))\n",
        "standard_error=np.sqrt(p*(1-p)*(1/len(old_layout)+1/len(new_layout)))\n",
        "z=(p2-p1)/standard_error\n",
        "p_value = 1 - stats.norm.cdf(z)\n",
        "print(z)\n",
        "if p_value<alpha:\n",
        "  print(\"reject null hypothesis:the conversion rate for new layout is higher than old_layout\")\n",
        "else:\n",
        "  print(\"fail to reject null hypotheis:there is no significant differnece between new_layout and old_layout\")\n",
        "\n",
        "p_value"
      ],
      "metadata": {
        "colab": {
          "base_uri": "https://localhost:8080/"
        },
        "id": "U6CklQAs8dPR",
        "outputId": "c56511e1-1381-4283-c8ba-eaaeef7f5b5f"
      },
      "execution_count": 62,
      "outputs": [
        {
          "output_type": "stream",
          "name": "stdout",
          "text": [
            "1.883108942886774\n",
            "reject null hypothesis:the conversion rate for new layout is higher than old_layout\n"
          ]
        },
        {
          "output_type": "execute_result",
          "data": {
            "text/plain": [
              "0.029842802766213095"
            ]
          },
          "metadata": {},
          "execution_count": 62
        }
      ]
    },
    {
      "cell_type": "code",
      "source": [
        "## A tutoring service claims that its program improves students' exam scores. A sample of students who\n",
        "##participated in the program was taken, and their scores before and after the program were recorded.\n",
        "\n",
        "\n",
        "##Use the below code to generate samples of respective arrays of marks:\n",
        "from statsmodels.stats.weightstats import ztest\n",
        "\n",
        "\n",
        "before_program = np.array([75, 80, 85, 70, 90, 78, 92, 88, 82, 87])\n",
        "\n",
        "after_program = np.array([80, 85, 90, 80, 92, 80, 95, 90, 85, 88])\n",
        "H0=\"there is no singicant difference exam score\"\n",
        "h1=\"tutoring program improves exam score \"\n",
        "alpha=0.05\n",
        "z_stats,p_value=ztest(after_program,before_program,alternative=\"two-sided\")\n",
        "print(z_stats,p_value)\n",
        "if p_value<alpha:\n",
        "  print(\"reject null hypothesis:tutoring program improves exam score\")\n",
        "else:\n",
        "  print(\"fail to reject null hypotheis:there is no signicant difference in exam score\")\n",
        "\n",
        "\n",
        "\n",
        "##Use z-test to find if the claims made by tutor are true or false"
      ],
      "metadata": {
        "colab": {
          "base_uri": "https://localhost:8080/"
        },
        "id": "4Fk-GDtw8dYq",
        "outputId": "13b2e305-df9d-48c3-9739-b6e4765e9605"
      },
      "execution_count": 63,
      "outputs": [
        {
          "output_type": "stream",
          "name": "stdout",
          "text": [
            "1.3600371723457605 0.17381816101827674\n",
            "fail to reject null hypotheis:there is no signicant difference in exam score\n"
          ]
        }
      ]
    },
    {
      "cell_type": "code",
      "source": [
        "##A pharmaceutical company wants to determine if a new drug is effective in reducing blood pressure. They\n",
        "##conduct a study and record blood pressure measurements before and after administering the drug.\n",
        "\n",
        "\n",
        "##Use the below code to generate samples of respective arrays of blood pressure:\n",
        "\n",
        "\n",
        "\n",
        "before_drug = np.array([145, 150, 140, 135, 155, 160, 152, 148, 130, 138])\n",
        "\n",
        "after_drug = np.array([130, 140, 132, 128, 145, 148, 138, 136, 125, 130])\n",
        "Ho=\"there is no significant difference in blood pressure:False\"\n",
        "H1=\"medicine has reduced blodd pressure:True\"\n",
        "alpha=0.05\n",
        "difference=before_drug-after_drug\n",
        "z_stats,p_value=ztest(after_drug,before_drug,alternative=\"two-sided\")\n",
        "print(f\"z_stats:{z_stats}\")\n",
        "print(f\"p_value: {p_value}\")\n",
        "if p_value<alpha:\n",
        "  print(\"reject null hypothesis:medicine has reduced blood pressure\")\n",
        "else:\n",
        "  print(\"fail to reject null hypothesis:there is no significant differnec in blood pressure\")\n",
        "\n",
        "\n",
        "\n",
        "\n",
        "##Implement z-test to find if the drug really works or not"
      ],
      "metadata": {
        "colab": {
          "base_uri": "https://localhost:8080/"
        },
        "id": "p0pglsxaZ4HU",
        "outputId": "a0a3d1dd-5e36-41e9-be7a-9bb3f960ddaa"
      },
      "execution_count": 64,
      "outputs": [
        {
          "output_type": "stream",
          "name": "stdout",
          "text": [
            "z_stats:-2.639577121919447\n",
            "p_value: 0.008300953387191556\n",
            "reject null hypothesis:medicine has reduced blood pressure\n"
          ]
        }
      ]
    },
    {
      "cell_type": "code",
      "source": [
        "## 14 A customer service department claims that their average response time is less than 5 minutes. A sample\n",
        "##of recent customer interactions was taken, and the response times were recorded.\n",
        "\n",
        "\n",
        "##Implement the below code to generate the array of response time:\n",
        "from statsmodels.stats.weightstats import ztest\n",
        "\n",
        "response_times = np.array([4.3, 3.8, 5.1, 4.9, 4.7, 4.2, 5.2, 4.5, 4.6, 4.4])\n",
        "ho=\"average time is greater or equal to 5 minute\"\n",
        "h1=\"average time is less than 5 minute\"\n",
        "alpha=0.5\n",
        "z_statistics,p_value=ztest(response_times,value=5,alternative=\"smaller\")\n",
        "print(\"z_statistics:\",z_statistics)\n",
        "print(f\"p_value:{p_value}\")\n",
        "if p_value<alpha:\n",
        "  print(\"reject null hypothesis:average time is less than 5 minute\")\n",
        "else:\n",
        "  print(\"fail to reject nul hypothesis: average time not less than 5 minute\")\n",
        "\n",
        "\n",
        "\n",
        "## Implement z-test to find the claims made by customer service department are tru or false."
      ],
      "metadata": {
        "colab": {
          "base_uri": "https://localhost:8080/"
        },
        "id": "KebmGCUUZ4U9",
        "outputId": "ccf474a0-5018-40b8-ea2a-1868efcc0aa8"
      },
      "execution_count": 65,
      "outputs": [
        {
          "output_type": "stream",
          "name": "stdout",
          "text": [
            "z_statistics: -3.1844572260429627\n",
            "p_value:0.0007251287113068958\n",
            "reject null hypothesis:average time is less than 5 minute\n"
          ]
        }
      ]
    },
    {
      "cell_type": "code",
      "source": [
        "##2£U A company is testing two different website layouts to see which one leads to higher click-through rates.\n",
        "##Write a Python function to perform an A/B test analysis, including calculating the t-statistic, degrees of\n",
        "##freedom, and p-value.\n",
        "from scipy import stats\n",
        "\n",
        "##Use the following data:\n",
        "def ab_test_ttest(layout_a_click,layout_b_clicks):\n",
        "  H0=\"there is no signifcant differece between two layout\"\n",
        "  H1=\"\"\n",
        "\n"
      ],
      "metadata": {
        "id": "LxqnGBsQZ4eN"
      },
      "execution_count": 66,
      "outputs": []
    },
    {
      "cell_type": "code",
      "source": [
        "##2êU A pharmaceutical company wants to determine if a new drug is more effective than an existing drug in\n",
        "##reducing cholesterol levels. Create a program to analyze the clinical trial data and calculate the tstatistic and p-value for the treatment effect.\n",
        "\n",
        "\n",
        "##Use the following data of cholestrol level:\n",
        "\n",
        "##```python\n",
        "\n",
        "##existing_drug_levels = [180, 182, 175, 185, 178, 176, 172, 184, 179, 183]\n",
        "\n",
        "##new_drug_levels = [170, 172, 165, 168, 175, 173, 170, 178, 172, 176]"
      ],
      "metadata": {
        "id": "sfo4uROuRluL"
      },
      "execution_count": 67,
      "outputs": []
    },
    {
      "cell_type": "code",
      "source": [
        "import numpy as np\n",
        "from scipy import stats\n",
        "\n",
        "existing_drug_levels = [180, 182, 175, 185, 178, 176, 172, 184, 179, 183]\n",
        "new_drug_levels = [170, 172, 165, 168, 175, 173, 170, 178, 172, 176]\n",
        "\n",
        "t_statistic, p_value = stats.ttest_ind(new_drug_levels,existing_drug_levels,alternative=\"greater\")\n",
        "\n",
        "print(\"T-statistic:\", t_statistic)\n",
        "print(\"P-value:\", p_value)\n",
        "\n",
        "alpha = 0.05  # Significance level\n",
        "\n",
        "if p_value < alpha:\n",
        "    print(\"Reject the null hypothesis: The new drug is significantly more effective in reducing cholesterol levels.\")\n",
        "else:\n",
        "    print(\"Fail to reject the null hypothesis: There is no significant differnece\")"
      ],
      "metadata": {
        "colab": {
          "base_uri": "https://localhost:8080/"
        },
        "id": "wq9abtpYRmCE",
        "outputId": "c25a9fbe-7e1a-451c-944f-60d583e7ec40"
      },
      "execution_count": 68,
      "outputs": [
        {
          "output_type": "stream",
          "name": "stdout",
          "text": [
            "T-statistic: -4.14048098620866\n",
            "P-value: 0.9996928300778813\n",
            "Fail to reject the null hypothesis: There is no significant differnece\n"
          ]
        }
      ]
    },
    {
      "cell_type": "code",
      "source": [
        "## A school district introduces an educational intervention program to improve math scores. Write a Python\n",
        "##function to analyze pre- and post-intervention test scores, calculating the t-statistic and p-value to\n",
        "##determine if the intervention had a significant impact.\n",
        "\n",
        "\n",
        "##Use the following data of test score:\n",
        "\n",
        "\n",
        "  ##```python\n",
        "\n",
        "  ##pre_intervention_scores = [80, 85, 90, 75, 88, 82, 92, 78, 85, 87]\n",
        "\n",
        "  ##post_intervention_scores = [90, 92, 88, 92, 95, 91, 96, 93, 89, 93"
      ],
      "metadata": {
        "id": "xhAw3uzcRmK-"
      },
      "execution_count": 69,
      "outputs": []
    },
    {
      "cell_type": "code",
      "source": [
        "def analyze_intervention_impact(pre_scores, post_scores):\n",
        "\n",
        "  t_statistic, p_value = stats.ttest_rel(pre_scores, post_scores)\n",
        "\n",
        "  return t_statistic, p_value"
      ],
      "metadata": {
        "id": "aOLi4QNFviMb"
      },
      "execution_count": 70,
      "outputs": []
    },
    {
      "cell_type": "code",
      "source": [
        "analyze_intervention_impact(pre_scores = [80, 85, 90, 75, 88, 82, 92, 78, 85, 87],\n",
        "post_scores = [90, 92, 88, 92, 95, 91, 96, 93, 89, 93])\n",
        "if p_value < alpha:\n",
        "    print(\"Reject the null hypothesis: The intervention had a significant impact on math scores.\")\n",
        "else:\n",
        "    print(\"Fail to reject the null hypothesis: The intervention did not have a significant impact on math scores\")"
      ],
      "metadata": {
        "colab": {
          "base_uri": "https://localhost:8080/"
        },
        "id": "r2gUsgfWRmUx",
        "outputId": "3a86cbd2-3aaf-40ed-caf2-c3f59c50ad31"
      },
      "execution_count": 71,
      "outputs": [
        {
          "output_type": "stream",
          "name": "stdout",
          "text": [
            "Fail to reject the null hypothesis: The intervention did not have a significant impact on math scores\n"
          ]
        }
      ]
    },
    {
      "cell_type": "code",
      "source": [
        "##An HR department wants to investigate if there's a gender-based salary gap within the company. Develop\n",
        "##a program to analyze salary data, calculate the t-statistic, and determine if there's a statistically\n",
        "##significant difference between the average salaries of male and female employees.\n",
        "\n",
        "\n",
        "##Use the below code to generate synthetic data:\n",
        "\n",
        "\n",
        "##```python\n",
        "\n",
        "# Generate synthetic salary data for male and female employees\n",
        "\n",
        "np.random.seed(0)  # For reproducibility\n",
        "\n",
        "male_salaries = np.random.normal(loc=50000, scale=10000, size=20)\n",
        "\n",
        "female_salaries = np.random.normal(loc=55000, scale=9000, size=20)\n",
        "alpha=0.05\n",
        "x=np.mean(male_salaries)\n",
        "y=np.mean(female_salaries)\n",
        "std1=np.std(male_salaries,ddof=1)\n",
        "std2=np.std(female_salaries,ddof=1)\n",
        "n1=len(male_salaries)\n",
        "n2=len(female_salaries)\n",
        "print(x,y,std1,std2)\n",
        "t_statistic = (x - y) / np.sqrt((std1**2 / n1) + (std2**2 / n2))\n",
        "\n",
        "t_critical=stats.t.ppf(1-alpha/2,(n1+n2 -2))\n",
        "print(\"t_statistic:\",t_statistic)\n",
        "if t_statistic>t_critical:\n",
        "  print(\"reject null hypotheisi: there is signicant difference between male and female salaries\")\n",
        "else:\n",
        "  print(\"fail to reject null hypotheis:there is not signicant difference between male and female saleries\")"
      ],
      "metadata": {
        "colab": {
          "base_uri": "https://localhost:8080/"
        },
        "id": "AhzUtaR3I8FK",
        "outputId": "ab44b377-b7c2-440e-cbba-5dbcbffe8812"
      },
      "execution_count": 72,
      "outputs": [
        {
          "output_type": "stream",
          "name": "stdout",
          "text": [
            "55693.345929456365 55501.753181380416 8722.691485249854 10968.104612042216\n",
            "t_statistic: 0.061142089696313844\n",
            "fail to reject null hypotheis:there is not signicant difference between male and female saleries\n"
          ]
        }
      ]
    },
    {
      "cell_type": "code",
      "source": [
        "##A manufacturer produces two different versions of a product and wants to compare their quality scores.\n",
        "##Create a Python function to analyze quality assessment data, calculate the t-statistic, and decide\n",
        "##whether there's a significant difference in quality between the two versions.\n",
        "\n",
        "\n",
        "##Use the following data:\n",
        "\n",
        "\n",
        "##```python\n",
        "\n",
        "##version1_scores = [85, 88, 82, 89, 87, 84, 90, 88, 85, 86, 91, 83, 87, 84, 89, 86, 84, 88, 85, 86, 89, 90, 87, 88, 85]\n",
        "\n",
        "##version2_scores = [80, 78, 83, 81, 79, 82, 76, 80, 78, 81, 77, 82, 80, 79, 82, 79, 80, 81, 79, 82, 79, 78, 80, 81, 82]"
      ],
      "metadata": {
        "id": "vywYZcTxa0Cx"
      },
      "execution_count": 73,
      "outputs": []
    },
    {
      "cell_type": "code",
      "source": [
        "def  two_version(version1_scores,version2_scores):\n",
        "  alpha=0.05\n",
        "  x=np.mean(version1_scores)\n",
        "  y=np.mean(version2_scores)\n",
        "  std1=np.std(version1_scores,ddof=1)\n",
        "  std2=np.std(version2_scores,ddof=1)\n",
        "  n1=len(version1_scores)\n",
        "  n2=len(version2_scores)\n",
        "  t_statistic = (x - y) / np.sqrt((std1**2 / n1) + (std2**2 / n2))\n",
        "  print(\"t_statistic:\",t_statistic)\n",
        "  t_critical=stats.t.ppf(1-alpha/2,(n1+n2-2))\n",
        "  if t_statistic>t_critical:\n",
        "    print(\"reject null hypotheis:there is significant difference between two versions\")\n",
        "  else:\n",
        "    print(\"fail to reject null hypotheis:there is a significant difference between version\")\n"
      ],
      "metadata": {
        "id": "1Wm5JrJaa0Mu"
      },
      "execution_count": 75,
      "outputs": []
    },
    {
      "cell_type": "code",
      "source": [
        "two_version(version1_scores = [85, 88, 82, 89, 87, 84, 90, 88, 85, 86, 91, 83, 87, 84, 89, 86, 84, 88, 85, 86, 89, 90, 87, 88, 85],\n",
        "version2_scores = [80, 78, 83, 81, 79, 82, 76, 80, 78, 81, 77, 82, 80, 79, 82, 79, 80, 81, 79, 82, 79, 78, 80, 81, 82])"
      ],
      "metadata": {
        "colab": {
          "base_uri": "https://localhost:8080/"
        },
        "id": "NUZYgaKVa0Qg",
        "outputId": "b0275c57-7a46-492e-f67b-e5cb8e15d18e"
      },
      "execution_count": 76,
      "outputs": [
        {
          "output_type": "stream",
          "name": "stdout",
          "text": [
            "t_statistic: 11.325830417646698\n",
            "reject null hypotheis:there is significant difference between two versions\n"
          ]
        }
      ]
    },
    {
      "cell_type": "code",
      "source": [
        " ##20. A restaurant chain collects customer satisfaction scores for two different branches. Write a program to\n",
        "##analyze the scores, calculate the t-statistic, and determine if there's a statistically significant difference in\n",
        "##customer satisfaction between the branches.\n",
        "\n",
        "from scipy import stats\n",
        "##Use the below data of scores:\n",
        "\n",
        " ## ```python\n",
        "\n",
        "branch_a_scores = [4, 5, 3, 4, 5, 4, 5, 3, 4, 4, 5, 4, 4, 3, 4, 5, 5, 4, 3, 4, 5, 4, 3, 5, 4, 4, 5, 3, 4, 5, 4]\n",
        "\n",
        "branch_b_scores = [3, 4, 2, 3, 4, 3, 4, 2, 3, 3, 4, 3, 3, 2, 3, 4, 4, 3, 2, 3, 4, 3, 2, 4, 3, 3, 4, 2, 3, 4, 3]\n",
        "alpha=0.05\n",
        "t_statistic,p_value=stats.ttest_ind(branch_a_scores,branch_b_scores)\n",
        "print(\"t_statistic:\",t_statistic)\n",
        "print(\"p_value:\",p_value)\n",
        "if p_value < alpha:\n",
        "  print(\"reject null hypothesis: there is a significant difference in customer satisfaction between the branches\")\n",
        "else:\n",
        "  print(\"fail to reject null hypothesis:there is not a significant difference in customer satisfaction between the branches \")\n"
      ],
      "metadata": {
        "colab": {
          "base_uri": "https://localhost:8080/"
        },
        "id": "BAG61Y57a0bF",
        "outputId": "36abbc5c-ff37-40eb-cf7c-d319f472b058"
      },
      "execution_count": 77,
      "outputs": [
        {
          "output_type": "stream",
          "name": "stdout",
          "text": [
            "t_statistic: 5.480077554195743\n",
            "p_value: 8.895290509945655e-07\n",
            "reject null hypothesis: there is a significant difference in customer satisfaction between the branches\n"
          ]
        }
      ]
    },
    {
      "cell_type": "code",
      "source": [
        "## A political analyst wants to determine if there is a significant association between age groups and voter\n",
        "##preferences (Candidate A or Candidate B). They collect data from a sample of 500 voters and classify\n",
        "##them into different age groups and candidate preferences. Perform a Chi-Square test to determine if\n",
        "##there is a significant association between age groups and voter preferences.\n",
        "from scipy.stats import chi2_contingency\n",
        "import numpy as np\n",
        "import pandas as pd\n",
        "\n",
        "##Use the below code to generate data:\n",
        "\n",
        "##```python\n",
        "alpha=0.05\n",
        "np.random.seed(0)\n",
        "\n",
        "age_groups = np.random.choice([ '18 -30' , '31 -50' , '51+'], size=30)\n",
        "\n",
        "voter_preferences = np.random.choice(['Candidate A', 'Candidate B'], size=30)\n",
        "data={'Age group':age_groups,'voter_preferences':voter_preferences}\n",
        "df=pd.DataFrame(data)\n",
        "contingency_table=pd.crosstab(df[\"Age group\"],df[\"voter_preferences\"])\n",
        "chi2_statistic,p_value,degrees_of_freedom,expected_frequency=chi2_contingency(contingency_table)\n",
        "print(\"Chi-Square Statistic:\", chi2_statistic)\n",
        "print(\"P-value:\", p_value)\n",
        "print(\"Degrees of Freedom:\", degrees_of_freedom)\n",
        "if p_value<alpha:\n",
        "      print(\"Reject the null hypothesis: There is a significant association between age groups and voter preferences.\")\n",
        "else:\n",
        "    print(\"Fail to reject the null hypothesis: There is no significant association between age groups and voter preferences.\")\n",
        "\n"
      ],
      "metadata": {
        "colab": {
          "base_uri": "https://localhost:8080/"
        },
        "id": "ilTqaB9R5jDX",
        "outputId": "ca265799-8f7b-4b17-8e38-885f2d5541ca"
      },
      "execution_count": 78,
      "outputs": [
        {
          "output_type": "stream",
          "name": "stdout",
          "text": [
            "Chi-Square Statistic: 1.4401669758812612\n",
            "P-value: 0.48671161971286614\n",
            "Degrees of Freedom: 2\n",
            "Fail to reject the null hypothesis: There is no significant association between age groups and voter preferences.\n"
          ]
        }
      ]
    },
    {
      "cell_type": "code",
      "source": [
        " ##22. A company conducted a customer satisfaction survey to determine if there is a significant relationship\n",
        "##between product satisfaction levels (Satisfied, Neutral, Dissatisfied) and the region where customers are\n",
        "##located (East, West, North, South). The survey data is summarized in a contingency table. Conduct a ChiSquare test to determine if there is a significant relationship between product satisfaction levels and\n",
        "##customer regions.\n",
        "\n",
        "\n",
        "##Sample data:\n",
        "\n",
        "##```python\n",
        "\n",
        "##Sample data: Product satisfaction levels (rows) vs. Customer regions (columns)\n",
        "\n",
        "data = np.array([[50, 30, 40, 20], [30, 40, 30, 50], [20, 30, 40, 30]])\n",
        "satisfaction_levels=['satisfied',\"neutral\",\"Dissatisfaction\"]\n",
        "regions=['East','west','north','south']\n",
        "df=pd.DataFrame(data,index=satisfaction_levels,columns=regions)\n",
        "chi2_statistic,p_value,degrees_of_freedom,expected_frequency=chi2_contingency(df)\n",
        "print(\"Chi-Square Statistic:\", chi2_statistic)\n",
        "print(\"P-value:\", p_value)\n",
        "print(\"Degrees of Freedom:\", degrees_of_freedom)\n",
        "if p_value<alpha:\n",
        "      print(\"Reject the null hypothesis: There is a significant association between product satisfaction levels and customer region.\")\n",
        "else:\n",
        "    print(\"Fail to reject the null hypothesis: There is no significant association between product satisfaction levels and customer region.\")\n"
      ],
      "metadata": {
        "colab": {
          "base_uri": "https://localhost:8080/"
        },
        "id": "e9EuwURk5jWm",
        "outputId": "cb204f2d-396a-4b9a-8d2b-2de9c5499c75"
      },
      "execution_count": 79,
      "outputs": [
        {
          "output_type": "stream",
          "name": "stdout",
          "text": [
            "Chi-Square Statistic: 27.777056277056275\n",
            "P-value: 0.00010349448486004387\n",
            "Degrees of Freedom: 6\n",
            "Reject the null hypothesis: There is a significant association between product satisfaction levels and customer region.\n"
          ]
        }
      ]
    },
    {
      "cell_type": "code",
      "source": [
        " ##23. A company implemented an employee training program to improve job performance (Effective, Neutral,\n",
        "#3Ineffective). After the training, they collected data from a sample of employees and classified them based\n",
        "##on their job performance before and after the training. Perform a Chi-Square test to determine if there is a\n",
        "##significant difference between job performance levels before and after the training.\n",
        "\n",
        "\n",
        "##Sample data:\n",
        "\n",
        "##```python\n",
        "\n",
        "# Sample data: Job performance levels before (rows) and after (columns) trainingg\n",
        "import numpy as np\n",
        "from scipy.stats import chi2_contingency\n",
        "data = np.array([[50, 30, 20], [30, 40, 30], [20, 30, 40]])\n",
        "chi2_statistic, p_value, degrees_of_freedom, expected_frequencies = chi2_contingency(data)\n",
        "print(\"Chi-Square Statistic:\", chi2_statistic)\n",
        "print(\"P-value:\", p_value)\n",
        "print(\"Degrees of Freedom:\", degrees_of_freedom)\n",
        "alpha = 0.05\n",
        "if p_value < alpha:\n",
        "    print(\"Reject the null hypothesis: There is a significant difference in job performance levels before and after training.\")\n",
        "else:\n",
        "    print(\"Fail to reject the null hypothesis: There is no significant difference in job performance levels before and after training.\")"
      ],
      "metadata": {
        "id": "5nbPpqUH5jf3",
        "colab": {
          "base_uri": "https://localhost:8080/"
        },
        "outputId": "6808174c-f564-44cb-a0a7-d50a32313e00"
      },
      "execution_count": 80,
      "outputs": [
        {
          "output_type": "stream",
          "name": "stdout",
          "text": [
            "Chi-Square Statistic: 22.161728395061726\n",
            "P-value: 0.00018609719479882557\n",
            "Degrees of Freedom: 4\n",
            "Reject the null hypothesis: There is a significant difference in job performance levels before and after training.\n"
          ]
        }
      ]
    },
    {
      "cell_type": "code",
      "source": [
        "## 24. A company produces three different versions of a product: Standard, Premium, and Deluxe. The\n",
        "##company wants to determine if there is a significant difference in customer satisfaction scores among the\n",
        "##three product versions. They conducted a survey and collected customer satisfaction scores for each\n",
        "##version from a random sample of customers. Perform an ANOVA test to determine if there is a significant\n",
        "##difference in customer satisfaction scores.\n",
        "from scipy import stats\n",
        "\n",
        "  ##Use the following data:\n",
        "\n",
        "  ##```python\n",
        "\n",
        "  # Sample data: Customer satisfaction scores for each product version\n",
        "\n",
        "standard_scores = [80, 85, 90, 78, 88, 82, 92, 78, 85, 87]\n",
        "\n",
        "premium_scores = [90, 92, 88, 92, 95, 91, 96, 93, 89, 93]\n",
        "\n",
        "deluxe_scores = [95, 98, 92, 97, 96, 94, 98, 97, 92, 99]\n",
        "f_statistic,p_value=stats.f_oneway(standard_scores,premium_scores,deluxe_scores)\n",
        "print(\"f_statistic:\",f_statistic)\n",
        "print(\"p_value:\",p_value)\n",
        "alpha=0.05\n",
        "if p_value<alpha:\n",
        "  print(\"reject null hypothesis:there is a significant difference between the group means\")\n",
        "else:\n",
        "  print(\"fail to reject null hypothesis:there is not a significant difference between the group means\")"
      ],
      "metadata": {
        "colab": {
          "base_uri": "https://localhost:8080/"
        },
        "id": "k_GaQUhWaMUe",
        "outputId": "9f9efd5c-1f5e-4749-bc4d-a219d65c3a0b"
      },
      "execution_count": 81,
      "outputs": [
        {
          "output_type": "stream",
          "name": "stdout",
          "text": [
            "f_statistic: 27.03556231003039\n",
            "p_value: 3.5786328857349003e-07\n",
            "reject null hypothesis:there is a significant difference between the group means\n"
          ]
        }
      ]
    },
    {
      "cell_type": "code",
      "source": [
        "standard_scores = [80, 85, 90, 78, 88, 82, 92, 78, 85, 87]\n",
        "premium_scores = [90, 92, 88, 92, 95, 91, 96, 93, 89, 93]\n",
        "deluxe_scores = [95, 98, 92, 97, 96, 94, 98, 97, 92, 90]\n",
        "fvalue, pvalue = stats.f_oneway(standard_scores, premium_scores, deluxe_scores)\n",
        "print(\"F-value:\", fvalue)\n",
        "print(\"P-value:\", pvalue)\n",
        "\n",
        "# Interpret the results (using a significance level of 0.05)\n",
        "alpha = 0.05\n",
        "if pvalue < alpha:\n",
        "    print(\"Reject the null hypothesis: There is a significant difference in customer satisfaction scores among the product versions\")\n",
        "else:\n",
        "    print(\"Fail to reject the null hypothesis: There is no significant difference in customer satisfaction scores among the product versions.\")"
      ],
      "metadata": {
        "colab": {
          "base_uri": "https://localhost:8080/"
        },
        "id": "ioIhnnoPzYNY",
        "outputId": "32c87fe9-b6b2-4d88-a0d6-5e4cdc2073d1"
      },
      "execution_count": 82,
      "outputs": [
        {
          "output_type": "stream",
          "name": "stdout",
          "text": [
            "F-value: 22.469939006680214\n",
            "P-value: 1.796056133281013e-06\n",
            "Reject the null hypothesis: There is a significant difference in customer satisfaction scores among the product versions\n"
          ]
        }
      ]
    },
    {
      "cell_type": "code",
      "source": [],
      "metadata": {
        "id": "MbRCJxnfGMKe"
      },
      "execution_count": null,
      "outputs": []
    },
    {
      "cell_type": "code",
      "source": [],
      "metadata": {
        "id": "0mGEKwZ2GMUs"
      },
      "execution_count": null,
      "outputs": []
    }
  ]
}